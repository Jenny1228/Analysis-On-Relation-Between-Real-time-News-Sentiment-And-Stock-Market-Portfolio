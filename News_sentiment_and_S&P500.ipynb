{
 "cells": [
  {
   "cell_type": "markdown",
   "metadata": {},
   "source": [
    "***Spring 2017 Data Bootcamp Final Project by Colleen Jin dj928, Yingying Chen yc1875***\n",
    "# Analysis On Relation Between Real-time News Sentiment And Stock Market Portfolio\n"
   ]
  },
  {
   "cell_type": "markdown",
   "metadata": {},
   "source": [
    "![title](titlepic3.png)"
   ]
  },
  {
   "cell_type": "markdown",
   "metadata": {},
   "source": [
    "**In this project, we use two sets of data to draw insights on how media sentiment can be an indicator for the financial sector. For the financial data, we plan to use daily return of the market index <font color='green'>(^GSPC)</font>, which is a good indicator for market fluctuation; for media sentiment, we use summarized information of news pieces from top 10 most popular press because of their stronger influence in shaping people's perception of events that are happening in the world.**\n",
    "\n",
    "**Both sets of data are real-time, which means the source files are of the moment and need to be loaded each time analysis is performed. The sentiment analysis library returns a <font color='green'>polarity</font> score (-1.0 to 1.0) and a <font color='green'>subjectivity</font> score (0.0 to 1.0) on the news stories. Using quantified sentiment analysis, we juxtapose the two time series of data and observe if they present any correlation and search for potential causality. For example, we may test the hypothesis that when polarity among the daily news posts is higher (a.k.a., positive), the financial market that same day is more likely to rise. The rest of the notebook is a step-by-step instruction.**\n",
    "\n",
    "### Modules used in this notebook:\n",
    "1. **[TextBlob](https://textblob.readthedocs.io/en/dev/): its library provides an API for common natural language processing <font color='green'>(NLP)</font> tasks, including part-of-speech tagging, noun phrase extraction, sentiment analysis, classification, translation, etc.**\n",
    "2. **[Non-Parametric Regression](http://pythonhosted.org/PyQt-Fit/NonParam_tut.html): a category of regression analysis in which the predictor does not take a predetermined form but is constructed according to information derived from the data.**\n",
    "3. **[WordCloud](https://pypi.python.org/pypi/wordcloud)**\n",
    "\n",
    "### Data sources: \n",
    "1. **[News API](https://newsapi.org/): We use a news api provided by [NewsAPI.org](https://newsapi.org/) to load real-time news headlines (in the form of JSON metadata), then apply methods mainly from Python's [TextBlob](https://textblob.readthedocs.io/en/dev/) module to conduct sentiment analysis. We seleced 10 publish houses by their popularity (please see the ranking of news press [here](http://www.ebizmba.com/articles/news-websites))**.\n",
    "2. **[S&P 500](https://finance.yahoo.com/quote/%5EGSPC?p=^GSPC) index open and closing price derived from Yahoo Finance**."
   ]
  },
  {
   "cell_type": "code",
   "execution_count": 1,
   "metadata": {
    "collapsed": true
   },
   "outputs": [],
   "source": [
    "%matplotlib inline                     \n",
    "# import necessary packages\n",
    "import pandas as pd                    \n",
    "import matplotlib.pyplot as plt        \n",
    "from pandas_datareader import data\n",
    "from datetime import datetime\n",
    "import numpy as np\n",
    "from textblob import TextBlob\n",
    "import csv\n",
    "\n",
    "from wordcloud import WordCloud,ImageColorGenerator\n",
    "#from scipy.misc import imread\n",
    "import string"
   ]
  },
  {
   "cell_type": "markdown",
   "metadata": {},
   "source": [
    "# PART 1: NEWS COLLECTION - pd.read_json()\n",
    "**We use <font color='green'>pd.read_json()</font> to import real-time news information (top 10 posts from each publisher). These news items are stored separately as dataframes and combined into one collective dataframe. (News API powered by [NewsAPI.org](https://newsapi.org/)**)**\n",
    "\n",
    "**The news press consists of **\n",
    "* [CNN](http://www.cnn.com/), \n",
    "* [The New York Times](https://www.nytimes.com/), \n",
    "* [Washington Post](https://www.washingtonpost.com/), \n",
    "* [BBC News](http://www.bbc.com/news), \n",
    "* [ABC News](http://abcnews.go.com/),\n",
    "* [Financial Times](https://www.ft.com/),\n",
    "* [Bloomberg](https://www.bloomberg.com/)."
   ]
  },
  {
   "cell_type": "code",
   "execution_count": 3,
   "metadata": {
    "collapsed": false
   },
   "outputs": [],
   "source": [
    "cnn = pd.read_json('https://newsapi.org/v1/articles?source=cnn&sortBy=top&apiKey=bdc0623102e94a7586137f02a51e0518')\n",
    "nyt= pd.read_json('https://newsapi.org/v1/articles?source=the-new-york-times&sortBy=top&apiKey=bdc0623102e94a7586137f02a51e0518')\n",
    "wsp=pd.read_json('https://newsapi.org/v1/articles?source=the-washington-post&sortBy=top&apiKey=bdc0623102e94a7586137f02a51e0518')\n",
    "bbc=pd.read_json(\"https://newsapi.org/v1/articles?source=bbc-news&sortBy=top&apiKey=bdc0623102e94a7586137f02a51e0518\")\n",
    "abc=pd.read_json(\"https://newsapi.org/v1/articles?source=abc-news-au&sortBy=top&apiKey=bdc0623102e94a7586137f02a51e0518\")\n",
    "#google = pd.read_json(\" https://newsapi.org/v1/articles?source=google-news&sortBy=top&apiKey=bdc0623102e94a7586137f02a51e0518\")\n",
    "ft = pd.read_json(\"https://newsapi.org/v1/articles?source=financial-times&sortBy=top&apiKey=bdc0623102e94a7586137f02a51e0518\")\n",
    "bloomberg = pd.read_json(\"https://newsapi.org/v1/articles?source=bloomberg&sortBy=top&apiKey=bdc0623102e94a7586137f02a51e0518\")\n",
    "economist = pd.read_json(\"https://newsapi.org/v1/articles?source=the-economist&sortBy=top&apiKey=bdc0623102e94a7586137f02a51e0518\")\n",
    "wsj = pd.read_json(\"https://newsapi.org/v1/articles?source=the-wall-street-journal&sortBy=top&apiKey=bdc0623102e94a7586137f02a51e0518\")"
   ]
  },
  {
   "cell_type": "code",
   "execution_count": 4,
   "metadata": {
    "collapsed": false,
    "scrolled": true
   },
   "outputs": [
    {
     "data": {
      "text/html": [
       "<div>\n",
       "<table border=\"1\" class=\"dataframe\">\n",
       "  <thead>\n",
       "    <tr style=\"text-align: right;\">\n",
       "      <th></th>\n",
       "      <th>articles</th>\n",
       "      <th>sortBy</th>\n",
       "      <th>source</th>\n",
       "      <th>status</th>\n",
       "    </tr>\n",
       "  </thead>\n",
       "  <tbody>\n",
       "    <tr>\n",
       "      <th>0</th>\n",
       "      <td>{'author': 'Carol E. Lee', 'title': 'Trump Urg...</td>\n",
       "      <td>top</td>\n",
       "      <td>the-wall-street-journal</td>\n",
       "      <td>ok</td>\n",
       "    </tr>\n",
       "    <tr>\n",
       "      <th>1</th>\n",
       "      <td>{'author': 'Peter Nicholas', 'title': 'Taxes, ...</td>\n",
       "      <td>top</td>\n",
       "      <td>the-wall-street-journal</td>\n",
       "      <td>ok</td>\n",
       "    </tr>\n",
       "    <tr>\n",
       "      <th>2</th>\n",
       "      <td>{'author': 'Ben Dummett', 'title': 'Huntsman, ...</td>\n",
       "      <td>top</td>\n",
       "      <td>the-wall-street-journal</td>\n",
       "      <td>ok</td>\n",
       "    </tr>\n",
       "    <tr>\n",
       "      <th>3</th>\n",
       "      <td>{'author': 'David Benoit', 'title': 'Arconic B...</td>\n",
       "      <td>top</td>\n",
       "      <td>the-wall-street-journal</td>\n",
       "      <td>ok</td>\n",
       "    </tr>\n",
       "    <tr>\n",
       "      <th>4</th>\n",
       "      <td>{'author': 'Gregory Zuckerman', 'title': 'The ...</td>\n",
       "      <td>top</td>\n",
       "      <td>the-wall-street-journal</td>\n",
       "      <td>ok</td>\n",
       "    </tr>\n",
       "    <tr>\n",
       "      <th>5</th>\n",
       "      <td>{'author': 'Christina Rogers', 'title': 'Ford ...</td>\n",
       "      <td>top</td>\n",
       "      <td>the-wall-street-journal</td>\n",
       "      <td>ok</td>\n",
       "    </tr>\n",
       "    <tr>\n",
       "      <th>6</th>\n",
       "      <td>{'author': 'Jonathan Cheng', 'title': 'North K...</td>\n",
       "      <td>top</td>\n",
       "      <td>the-wall-street-journal</td>\n",
       "      <td>ok</td>\n",
       "    </tr>\n",
       "    <tr>\n",
       "      <th>7</th>\n",
       "      <td>{'author': 'Peter Rudegeair', 'title': 'Bond B...</td>\n",
       "      <td>top</td>\n",
       "      <td>the-wall-street-journal</td>\n",
       "      <td>ok</td>\n",
       "    </tr>\n",
       "    <tr>\n",
       "      <th>8</th>\n",
       "      <td>{'author': 'Christopher Mims', 'title': 'All I...</td>\n",
       "      <td>top</td>\n",
       "      <td>the-wall-street-journal</td>\n",
       "      <td>ok</td>\n",
       "    </tr>\n",
       "    <tr>\n",
       "      <th>9</th>\n",
       "      <td>{'author': 'David Harrison', 'title': 'Much-Ma...</td>\n",
       "      <td>top</td>\n",
       "      <td>the-wall-street-journal</td>\n",
       "      <td>ok</td>\n",
       "    </tr>\n",
       "    <tr>\n",
       "      <th>10</th>\n",
       "      <td>{'author': 'Kevin Liptak and Jeff Zeleny, CNN'...</td>\n",
       "      <td>top</td>\n",
       "      <td>cnn</td>\n",
       "      <td>ok</td>\n",
       "    </tr>\n",
       "    <tr>\n",
       "      <th>11</th>\n",
       "      <td>{'author': 'Angela Dewan, CNN', 'title': 'Trum...</td>\n",
       "      <td>top</td>\n",
       "      <td>cnn</td>\n",
       "      <td>ok</td>\n",
       "    </tr>\n",
       "    <tr>\n",
       "      <th>12</th>\n",
       "      <td>{'author': 'Daniel Burke, CNN Religion Editor'...</td>\n",
       "      <td>top</td>\n",
       "      <td>cnn</td>\n",
       "      <td>ok</td>\n",
       "    </tr>\n",
       "    <tr>\n",
       "      <th>13</th>\n",
       "      <td>{'author': 'Peter Bergen, CNN National Securit...</td>\n",
       "      <td>top</td>\n",
       "      <td>cnn</td>\n",
       "      <td>ok</td>\n",
       "    </tr>\n",
       "    <tr>\n",
       "      <th>14</th>\n",
       "      <td>{'author': None, 'title': 'Trump called a hypo...</td>\n",
       "      <td>top</td>\n",
       "      <td>cnn</td>\n",
       "      <td>ok</td>\n",
       "    </tr>\n",
       "    <tr>\n",
       "      <th>15</th>\n",
       "      <td>{'author': 'Jackie Wattles', 'title': 'Tillers...</td>\n",
       "      <td>top</td>\n",
       "      <td>cnn</td>\n",
       "      <td>ok</td>\n",
       "    </tr>\n",
       "    <tr>\n",
       "      <th>16</th>\n",
       "      <td>{'author': 'Jennifer Hansler, CNN', 'title': '...</td>\n",
       "      <td>top</td>\n",
       "      <td>cnn</td>\n",
       "      <td>ok</td>\n",
       "    </tr>\n",
       "    <tr>\n",
       "      <th>17</th>\n",
       "      <td>{'author': 'Gustavo Valdes and Catherine E. Sh...</td>\n",
       "      <td>top</td>\n",
       "      <td>cnn</td>\n",
       "      <td>ok</td>\n",
       "    </tr>\n",
       "    <tr>\n",
       "      <th>18</th>\n",
       "      <td>{'author': 'Elizabeth Landers, CNN', 'title': ...</td>\n",
       "      <td>top</td>\n",
       "      <td>cnn</td>\n",
       "      <td>ok</td>\n",
       "    </tr>\n",
       "    <tr>\n",
       "      <th>19</th>\n",
       "      <td>{'author': 'Brad Lendon, CNN', 'title': 'North...</td>\n",
       "      <td>top</td>\n",
       "      <td>cnn</td>\n",
       "      <td>ok</td>\n",
       "    </tr>\n",
       "    <tr>\n",
       "      <th>20</th>\n",
       "      <td>{'author': 'Mark Mazzetti, Adam Goldman, Micha...</td>\n",
       "      <td>top</td>\n",
       "      <td>the-new-york-times</td>\n",
       "      <td>ok</td>\n",
       "    </tr>\n",
       "    <tr>\n",
       "      <th>21</th>\n",
       "      <td>{'author': 'Matt Apuzzo, Maggie Haberman and M...</td>\n",
       "      <td>top</td>\n",
       "      <td>the-new-york-times</td>\n",
       "      <td>ok</td>\n",
       "    </tr>\n",
       "    <tr>\n",
       "      <th>22</th>\n",
       "      <td>{'author': 'Sheryl Gay Stolberg', 'title': 'Pr...</td>\n",
       "      <td>top</td>\n",
       "      <td>the-new-york-times</td>\n",
       "      <td>ok</td>\n",
       "    </tr>\n",
       "    <tr>\n",
       "      <th>23</th>\n",
       "      <td>{'author': 'Michael D. Shear and Peter Baker',...</td>\n",
       "      <td>top</td>\n",
       "      <td>the-new-york-times</td>\n",
       "      <td>ok</td>\n",
       "    </tr>\n",
       "    <tr>\n",
       "      <th>24</th>\n",
       "      <td>{'author': 'Dave Itzkoff', 'title': 'On ‘Satur...</td>\n",
       "      <td>top</td>\n",
       "      <td>the-new-york-times</td>\n",
       "      <td>ok</td>\n",
       "    </tr>\n",
       "    <tr>\n",
       "      <th>25</th>\n",
       "      <td>{'author': 'Peter Baker and Michael D. Shear',...</td>\n",
       "      <td>top</td>\n",
       "      <td>the-new-york-times</td>\n",
       "      <td>ok</td>\n",
       "    </tr>\n",
       "    <tr>\n",
       "      <th>26</th>\n",
       "      <td>{'author': 'Niraj Chokshi and Daniel Victor', ...</td>\n",
       "      <td>top</td>\n",
       "      <td>the-new-york-times</td>\n",
       "      <td>ok</td>\n",
       "    </tr>\n",
       "    <tr>\n",
       "      <th>27</th>\n",
       "      <td>{'author': 'Maggie Haberman', 'title': 'House ...</td>\n",
       "      <td>top</td>\n",
       "      <td>the-new-york-times</td>\n",
       "      <td>ok</td>\n",
       "    </tr>\n",
       "    <tr>\n",
       "      <th>28</th>\n",
       "      <td>{'author': 'Mark Landler, Eric Schmitt and Mat...</td>\n",
       "      <td>top</td>\n",
       "      <td>the-new-york-times</td>\n",
       "      <td>ok</td>\n",
       "    </tr>\n",
       "    <tr>\n",
       "      <th>29</th>\n",
       "      <td>{'author': 'Joe Drape and Melissa Hoppert', 't...</td>\n",
       "      <td>top</td>\n",
       "      <td>the-new-york-times</td>\n",
       "      <td>ok</td>\n",
       "    </tr>\n",
       "    <tr>\n",
       "      <th>...</th>\n",
       "      <td>...</td>\n",
       "      <td>...</td>\n",
       "      <td>...</td>\n",
       "      <td>...</td>\n",
       "    </tr>\n",
       "    <tr>\n",
       "      <th>60</th>\n",
       "      <td>{'author': None, 'title': 'Trump attacks Iran ...</td>\n",
       "      <td>top</td>\n",
       "      <td>financial-times</td>\n",
       "      <td>ok</td>\n",
       "    </tr>\n",
       "    <tr>\n",
       "      <th>61</th>\n",
       "      <td>{'author': None, 'title': 'New world of Chines...</td>\n",
       "      <td>top</td>\n",
       "      <td>financial-times</td>\n",
       "      <td>ok</td>\n",
       "    </tr>\n",
       "    <tr>\n",
       "      <th>62</th>\n",
       "      <td>{'author': None, 'title': 'Huntsman and Claria...</td>\n",
       "      <td>top</td>\n",
       "      <td>financial-times</td>\n",
       "      <td>ok</td>\n",
       "    </tr>\n",
       "    <tr>\n",
       "      <th>63</th>\n",
       "      <td>{'author': None, 'title': 'US solar power grou...</td>\n",
       "      <td>top</td>\n",
       "      <td>financial-times</td>\n",
       "      <td>ok</td>\n",
       "    </tr>\n",
       "    <tr>\n",
       "      <th>64</th>\n",
       "      <td>{'author': None, 'title': 'Trump faces tough f...</td>\n",
       "      <td>top</td>\n",
       "      <td>financial-times</td>\n",
       "      <td>ok</td>\n",
       "    </tr>\n",
       "    <tr>\n",
       "      <th>65</th>\n",
       "      <td>{'author': None, 'title': 'Center Parcs hails ...</td>\n",
       "      <td>top</td>\n",
       "      <td>financial-times</td>\n",
       "      <td>ok</td>\n",
       "    </tr>\n",
       "    <tr>\n",
       "      <th>66</th>\n",
       "      <td>{'author': None, 'title': 'Macau casinos cash ...</td>\n",
       "      <td>top</td>\n",
       "      <td>financial-times</td>\n",
       "      <td>ok</td>\n",
       "    </tr>\n",
       "    <tr>\n",
       "      <th>67</th>\n",
       "      <td>{'author': None, 'title': 'US Hispanics: Too s...</td>\n",
       "      <td>top</td>\n",
       "      <td>financial-times</td>\n",
       "      <td>ok</td>\n",
       "    </tr>\n",
       "    <tr>\n",
       "      <th>68</th>\n",
       "      <td>{'author': None, 'title': 'The case for higher...</td>\n",
       "      <td>top</td>\n",
       "      <td>financial-times</td>\n",
       "      <td>ok</td>\n",
       "    </tr>\n",
       "    <tr>\n",
       "      <th>69</th>\n",
       "      <td>{'author': None, 'title': 'Lawyers vote for Br...</td>\n",
       "      <td>top</td>\n",
       "      <td>financial-times</td>\n",
       "      <td>ok</td>\n",
       "    </tr>\n",
       "    <tr>\n",
       "      <th>70</th>\n",
       "      <td>{'author': None, 'title': 'Why China Must Figu...</td>\n",
       "      <td>top</td>\n",
       "      <td>bloomberg</td>\n",
       "      <td>ok</td>\n",
       "    </tr>\n",
       "    <tr>\n",
       "      <th>71</th>\n",
       "      <td>{'author': 'Margaret Talev', 'title': 'With Th...</td>\n",
       "      <td>top</td>\n",
       "      <td>bloomberg</td>\n",
       "      <td>ok</td>\n",
       "    </tr>\n",
       "    <tr>\n",
       "      <th>72</th>\n",
       "      <td>{'author': 'Andrew M Harris', 'title': 'Chaffe...</td>\n",
       "      <td>top</td>\n",
       "      <td>bloomberg</td>\n",
       "      <td>ok</td>\n",
       "    </tr>\n",
       "    <tr>\n",
       "      <th>73</th>\n",
       "      <td>{'author': '', 'title': 'Cathay Pacific Cuts 6...</td>\n",
       "      <td>top</td>\n",
       "      <td>bloomberg</td>\n",
       "      <td>ok</td>\n",
       "    </tr>\n",
       "    <tr>\n",
       "      <th>74</th>\n",
       "      <td>{'author': 'Matthew Monks, Jack Kaskey', 'titl...</td>\n",
       "      <td>top</td>\n",
       "      <td>bloomberg</td>\n",
       "      <td>ok</td>\n",
       "    </tr>\n",
       "    <tr>\n",
       "      <th>75</th>\n",
       "      <td>{'author': 'Dana Hull', 'title': 'Tesla Focuse...</td>\n",
       "      <td>top</td>\n",
       "      <td>bloomberg</td>\n",
       "      <td>ok</td>\n",
       "    </tr>\n",
       "    <tr>\n",
       "      <th>76</th>\n",
       "      <td>{'author': 'Serene Cheong, Dan Murtaugh, Sharo...</td>\n",
       "      <td>top</td>\n",
       "      <td>bloomberg</td>\n",
       "      <td>ok</td>\n",
       "    </tr>\n",
       "    <tr>\n",
       "      <th>77</th>\n",
       "      <td>{'author': '', 'title': 'Times Square Driver S...</td>\n",
       "      <td>top</td>\n",
       "      <td>bloomberg</td>\n",
       "      <td>ok</td>\n",
       "    </tr>\n",
       "    <tr>\n",
       "      <th>78</th>\n",
       "      <td>{'author': 'Kanga Kong', 'title': 'Latest Nort...</td>\n",
       "      <td>top</td>\n",
       "      <td>bloomberg</td>\n",
       "      <td>ok</td>\n",
       "    </tr>\n",
       "    <tr>\n",
       "      <th>79</th>\n",
       "      <td>{'author': 'Alfred Liu, Moxy Ying, Enda Curran...</td>\n",
       "      <td>top</td>\n",
       "      <td>bloomberg</td>\n",
       "      <td>ok</td>\n",
       "    </tr>\n",
       "    <tr>\n",
       "      <th>80</th>\n",
       "      <td>{'author': 'The Economist', 'title': 'Donald T...</td>\n",
       "      <td>top</td>\n",
       "      <td>the-economist</td>\n",
       "      <td>ok</td>\n",
       "    </tr>\n",
       "    <tr>\n",
       "      <th>81</th>\n",
       "      <td>{'author': 'The Economist', 'title': 'Deadline...</td>\n",
       "      <td>top</td>\n",
       "      <td>the-economist</td>\n",
       "      <td>ok</td>\n",
       "    </tr>\n",
       "    <tr>\n",
       "      <th>82</th>\n",
       "      <td>{'author': 'The Economist', 'title': 'The Tori...</td>\n",
       "      <td>top</td>\n",
       "      <td>the-economist</td>\n",
       "      <td>ok</td>\n",
       "    </tr>\n",
       "    <tr>\n",
       "      <th>83</th>\n",
       "      <td>{'author': 'The Economist', 'title': 'Sweden i...</td>\n",
       "      <td>top</td>\n",
       "      <td>the-economist</td>\n",
       "      <td>ok</td>\n",
       "    </tr>\n",
       "    <tr>\n",
       "      <th>84</th>\n",
       "      <td>{'author': 'The Economist', 'title': 'The Next...</td>\n",
       "      <td>top</td>\n",
       "      <td>the-economist</td>\n",
       "      <td>ok</td>\n",
       "    </tr>\n",
       "    <tr>\n",
       "      <th>85</th>\n",
       "      <td>{'author': 'The Economist', 'title': 'One stat...</td>\n",
       "      <td>top</td>\n",
       "      <td>the-economist</td>\n",
       "      <td>ok</td>\n",
       "    </tr>\n",
       "    <tr>\n",
       "      <th>86</th>\n",
       "      <td>{'author': 'The Economist', 'title': 'Race-bas...</td>\n",
       "      <td>top</td>\n",
       "      <td>the-economist</td>\n",
       "      <td>ok</td>\n",
       "    </tr>\n",
       "    <tr>\n",
       "      <th>87</th>\n",
       "      <td>{'author': 'The Economist', 'title': 'Emmanuel...</td>\n",
       "      <td>top</td>\n",
       "      <td>the-economist</td>\n",
       "      <td>ok</td>\n",
       "    </tr>\n",
       "    <tr>\n",
       "      <th>88</th>\n",
       "      <td>{'author': 'The Economist', 'title': 'WannaCry...</td>\n",
       "      <td>top</td>\n",
       "      <td>the-economist</td>\n",
       "      <td>ok</td>\n",
       "    </tr>\n",
       "    <tr>\n",
       "      <th>89</th>\n",
       "      <td>{'author': 'The Economist', 'title': 'Australi...</td>\n",
       "      <td>top</td>\n",
       "      <td>the-economist</td>\n",
       "      <td>ok</td>\n",
       "    </tr>\n",
       "  </tbody>\n",
       "</table>\n",
       "<p>90 rows × 4 columns</p>\n",
       "</div>"
      ],
      "text/plain": [
       "                                             articles sortBy  \\\n",
       "0   {'author': 'Carol E. Lee', 'title': 'Trump Urg...    top   \n",
       "1   {'author': 'Peter Nicholas', 'title': 'Taxes, ...    top   \n",
       "2   {'author': 'Ben Dummett', 'title': 'Huntsman, ...    top   \n",
       "3   {'author': 'David Benoit', 'title': 'Arconic B...    top   \n",
       "4   {'author': 'Gregory Zuckerman', 'title': 'The ...    top   \n",
       "5   {'author': 'Christina Rogers', 'title': 'Ford ...    top   \n",
       "6   {'author': 'Jonathan Cheng', 'title': 'North K...    top   \n",
       "7   {'author': 'Peter Rudegeair', 'title': 'Bond B...    top   \n",
       "8   {'author': 'Christopher Mims', 'title': 'All I...    top   \n",
       "9   {'author': 'David Harrison', 'title': 'Much-Ma...    top   \n",
       "10  {'author': 'Kevin Liptak and Jeff Zeleny, CNN'...    top   \n",
       "11  {'author': 'Angela Dewan, CNN', 'title': 'Trum...    top   \n",
       "12  {'author': 'Daniel Burke, CNN Religion Editor'...    top   \n",
       "13  {'author': 'Peter Bergen, CNN National Securit...    top   \n",
       "14  {'author': None, 'title': 'Trump called a hypo...    top   \n",
       "15  {'author': 'Jackie Wattles', 'title': 'Tillers...    top   \n",
       "16  {'author': 'Jennifer Hansler, CNN', 'title': '...    top   \n",
       "17  {'author': 'Gustavo Valdes and Catherine E. Sh...    top   \n",
       "18  {'author': 'Elizabeth Landers, CNN', 'title': ...    top   \n",
       "19  {'author': 'Brad Lendon, CNN', 'title': 'North...    top   \n",
       "20  {'author': 'Mark Mazzetti, Adam Goldman, Micha...    top   \n",
       "21  {'author': 'Matt Apuzzo, Maggie Haberman and M...    top   \n",
       "22  {'author': 'Sheryl Gay Stolberg', 'title': 'Pr...    top   \n",
       "23  {'author': 'Michael D. Shear and Peter Baker',...    top   \n",
       "24  {'author': 'Dave Itzkoff', 'title': 'On ‘Satur...    top   \n",
       "25  {'author': 'Peter Baker and Michael D. Shear',...    top   \n",
       "26  {'author': 'Niraj Chokshi and Daniel Victor', ...    top   \n",
       "27  {'author': 'Maggie Haberman', 'title': 'House ...    top   \n",
       "28  {'author': 'Mark Landler, Eric Schmitt and Mat...    top   \n",
       "29  {'author': 'Joe Drape and Melissa Hoppert', 't...    top   \n",
       "..                                                ...    ...   \n",
       "60  {'author': None, 'title': 'Trump attacks Iran ...    top   \n",
       "61  {'author': None, 'title': 'New world of Chines...    top   \n",
       "62  {'author': None, 'title': 'Huntsman and Claria...    top   \n",
       "63  {'author': None, 'title': 'US solar power grou...    top   \n",
       "64  {'author': None, 'title': 'Trump faces tough f...    top   \n",
       "65  {'author': None, 'title': 'Center Parcs hails ...    top   \n",
       "66  {'author': None, 'title': 'Macau casinos cash ...    top   \n",
       "67  {'author': None, 'title': 'US Hispanics: Too s...    top   \n",
       "68  {'author': None, 'title': 'The case for higher...    top   \n",
       "69  {'author': None, 'title': 'Lawyers vote for Br...    top   \n",
       "70  {'author': None, 'title': 'Why China Must Figu...    top   \n",
       "71  {'author': 'Margaret Talev', 'title': 'With Th...    top   \n",
       "72  {'author': 'Andrew M Harris', 'title': 'Chaffe...    top   \n",
       "73  {'author': '', 'title': 'Cathay Pacific Cuts 6...    top   \n",
       "74  {'author': 'Matthew Monks, Jack Kaskey', 'titl...    top   \n",
       "75  {'author': 'Dana Hull', 'title': 'Tesla Focuse...    top   \n",
       "76  {'author': 'Serene Cheong, Dan Murtaugh, Sharo...    top   \n",
       "77  {'author': '', 'title': 'Times Square Driver S...    top   \n",
       "78  {'author': 'Kanga Kong', 'title': 'Latest Nort...    top   \n",
       "79  {'author': 'Alfred Liu, Moxy Ying, Enda Curran...    top   \n",
       "80  {'author': 'The Economist', 'title': 'Donald T...    top   \n",
       "81  {'author': 'The Economist', 'title': 'Deadline...    top   \n",
       "82  {'author': 'The Economist', 'title': 'The Tori...    top   \n",
       "83  {'author': 'The Economist', 'title': 'Sweden i...    top   \n",
       "84  {'author': 'The Economist', 'title': 'The Next...    top   \n",
       "85  {'author': 'The Economist', 'title': 'One stat...    top   \n",
       "86  {'author': 'The Economist', 'title': 'Race-bas...    top   \n",
       "87  {'author': 'The Economist', 'title': 'Emmanuel...    top   \n",
       "88  {'author': 'The Economist', 'title': 'WannaCry...    top   \n",
       "89  {'author': 'The Economist', 'title': 'Australi...    top   \n",
       "\n",
       "                     source status  \n",
       "0   the-wall-street-journal     ok  \n",
       "1   the-wall-street-journal     ok  \n",
       "2   the-wall-street-journal     ok  \n",
       "3   the-wall-street-journal     ok  \n",
       "4   the-wall-street-journal     ok  \n",
       "5   the-wall-street-journal     ok  \n",
       "6   the-wall-street-journal     ok  \n",
       "7   the-wall-street-journal     ok  \n",
       "8   the-wall-street-journal     ok  \n",
       "9   the-wall-street-journal     ok  \n",
       "10                      cnn     ok  \n",
       "11                      cnn     ok  \n",
       "12                      cnn     ok  \n",
       "13                      cnn     ok  \n",
       "14                      cnn     ok  \n",
       "15                      cnn     ok  \n",
       "16                      cnn     ok  \n",
       "17                      cnn     ok  \n",
       "18                      cnn     ok  \n",
       "19                      cnn     ok  \n",
       "20       the-new-york-times     ok  \n",
       "21       the-new-york-times     ok  \n",
       "22       the-new-york-times     ok  \n",
       "23       the-new-york-times     ok  \n",
       "24       the-new-york-times     ok  \n",
       "25       the-new-york-times     ok  \n",
       "26       the-new-york-times     ok  \n",
       "27       the-new-york-times     ok  \n",
       "28       the-new-york-times     ok  \n",
       "29       the-new-york-times     ok  \n",
       "..                      ...    ...  \n",
       "60          financial-times     ok  \n",
       "61          financial-times     ok  \n",
       "62          financial-times     ok  \n",
       "63          financial-times     ok  \n",
       "64          financial-times     ok  \n",
       "65          financial-times     ok  \n",
       "66          financial-times     ok  \n",
       "67          financial-times     ok  \n",
       "68          financial-times     ok  \n",
       "69          financial-times     ok  \n",
       "70                bloomberg     ok  \n",
       "71                bloomberg     ok  \n",
       "72                bloomberg     ok  \n",
       "73                bloomberg     ok  \n",
       "74                bloomberg     ok  \n",
       "75                bloomberg     ok  \n",
       "76                bloomberg     ok  \n",
       "77                bloomberg     ok  \n",
       "78                bloomberg     ok  \n",
       "79                bloomberg     ok  \n",
       "80            the-economist     ok  \n",
       "81            the-economist     ok  \n",
       "82            the-economist     ok  \n",
       "83            the-economist     ok  \n",
       "84            the-economist     ok  \n",
       "85            the-economist     ok  \n",
       "86            the-economist     ok  \n",
       "87            the-economist     ok  \n",
       "88            the-economist     ok  \n",
       "89            the-economist     ok  \n",
       "\n",
       "[90 rows x 4 columns]"
      ]
     },
     "execution_count": 4,
     "metadata": {},
     "output_type": "execute_result"
    }
   ],
   "source": [
    "total = [wsj, cnn, nyt, wsp, bbc, abc, ft, bloomberg, economist]\n",
    "total1 = pd.concat(total, ignore_index=True)\n",
    "total1"
   ]
  },
  {
   "cell_type": "markdown",
   "metadata": {},
   "source": [
    "**Some values may be missing in the <font color='green'>article</font> column. For example, if there is no imformation of the key <font color='green'>author</font> of news pieces from BBC, it will indicates <font color='green'>None</font> where the <font color='green'>author</font> information should have been. Therefore, we need to convert <font color='green'>Nonetype</font> entries to string type, because the <font color='green'>.append()</font> method for a <font color='green'>list</font> cannot pass values of <font color='green'>Nonetype</font>. We will use <font color='green'>.append()</font> method later for displaying sentiment analysis results.**"
   ]
  },
  {
   "cell_type": "code",
   "execution_count": 5,
   "metadata": {
    "collapsed": false,
    "scrolled": true
   },
   "outputs": [
    {
     "name": "stdout",
     "output_type": "stream",
     "text": [
      "<class 'str'>\n",
      "<class 'str'>\n",
      "<class 'str'>\n",
      "<class 'str'>\n",
      "<class 'str'>\n",
      "<class 'str'>\n",
      "<class 'str'>\n",
      "<class 'str'>\n",
      "<class 'str'>\n",
      "<class 'str'>\n",
      "<class 'str'>\n",
      "<class 'str'>\n",
      "<class 'str'>\n",
      "<class 'str'>\n",
      "<class 'str'>\n",
      "<class 'str'>\n",
      "<class 'str'>\n",
      "<class 'str'>\n",
      "<class 'str'>\n",
      "<class 'str'>\n",
      "<class 'str'>\n",
      "<class 'str'>\n",
      "<class 'str'>\n",
      "<class 'str'>\n",
      "<class 'str'>\n",
      "<class 'str'>\n",
      "<class 'str'>\n",
      "<class 'str'>\n",
      "<class 'str'>\n",
      "<class 'str'>\n",
      "<class 'str'>\n",
      "<class 'str'>\n",
      "<class 'str'>\n",
      "<class 'str'>\n",
      "<class 'str'>\n",
      "<class 'str'>\n",
      "<class 'str'>\n",
      "<class 'str'>\n",
      "<class 'str'>\n",
      "<class 'str'>\n",
      "<class 'str'>\n",
      "<class 'str'>\n",
      "<class 'str'>\n",
      "<class 'str'>\n",
      "<class 'str'>\n",
      "<class 'str'>\n",
      "<class 'str'>\n",
      "<class 'str'>\n",
      "<class 'str'>\n",
      "<class 'str'>\n",
      "<class 'str'>\n",
      "<class 'str'>\n",
      "<class 'str'>\n",
      "<class 'str'>\n",
      "<class 'str'>\n",
      "<class 'str'>\n",
      "<class 'str'>\n",
      "<class 'str'>\n",
      "<class 'str'>\n",
      "<class 'str'>\n",
      "<class 'str'>\n",
      "<class 'str'>\n",
      "<class 'str'>\n",
      "<class 'str'>\n",
      "<class 'str'>\n",
      "<class 'str'>\n",
      "<class 'str'>\n",
      "<class 'str'>\n",
      "<class 'str'>\n",
      "<class 'str'>\n",
      "<class 'str'>\n",
      "<class 'str'>\n",
      "<class 'str'>\n",
      "<class 'str'>\n",
      "<class 'str'>\n",
      "<class 'str'>\n",
      "<class 'str'>\n",
      "<class 'str'>\n",
      "<class 'str'>\n",
      "<class 'str'>\n",
      "<class 'str'>\n",
      "<class 'str'>\n",
      "<class 'str'>\n",
      "<class 'str'>\n",
      "<class 'str'>\n",
      "<class 'str'>\n",
      "<class 'str'>\n",
      "<class 'str'>\n",
      "<class 'str'>\n",
      "<class 'str'>\n"
     ]
    }
   ],
   "source": [
    "k = 0\n",
    "while k < len(total1):\n",
    "    if total1['articles'][k]['description'] is None:\n",
    "        total1['articles'][k]['description'] = 'None'\n",
    "    k += 1\n",
    "\n",
    "j = 0\n",
    "while j < len(total1):\n",
    "    print(type(total1['articles'][j]['description']))\n",
    "    j += 1\n",
    "# now all entries are of type string, regardless whether there is real contents."
   ]
  },
  {
   "cell_type": "code",
   "execution_count": 6,
   "metadata": {
    "collapsed": false,
    "scrolled": true
   },
   "outputs": [
    {
     "name": "stdout",
     "output_type": "stream",
     "text": [
      "<class 'str'>\n",
      "<class 'str'>\n",
      "<class 'str'>\n",
      "<class 'str'>\n",
      "<class 'str'>\n",
      "<class 'str'>\n",
      "<class 'str'>\n",
      "<class 'str'>\n",
      "<class 'str'>\n",
      "<class 'str'>\n",
      "<class 'str'>\n",
      "<class 'str'>\n",
      "<class 'str'>\n",
      "<class 'str'>\n",
      "<class 'str'>\n",
      "<class 'str'>\n",
      "<class 'str'>\n",
      "<class 'str'>\n",
      "<class 'str'>\n",
      "<class 'str'>\n",
      "<class 'str'>\n",
      "<class 'str'>\n",
      "<class 'str'>\n",
      "<class 'str'>\n",
      "<class 'str'>\n",
      "<class 'str'>\n",
      "<class 'str'>\n",
      "<class 'str'>\n",
      "<class 'str'>\n",
      "<class 'str'>\n",
      "<class 'str'>\n",
      "<class 'str'>\n",
      "<class 'str'>\n",
      "<class 'str'>\n",
      "<class 'str'>\n",
      "<class 'str'>\n",
      "<class 'str'>\n",
      "<class 'str'>\n",
      "<class 'str'>\n",
      "<class 'str'>\n",
      "<class 'str'>\n",
      "<class 'str'>\n",
      "<class 'str'>\n",
      "<class 'str'>\n",
      "<class 'str'>\n",
      "<class 'str'>\n",
      "<class 'str'>\n",
      "<class 'str'>\n",
      "<class 'str'>\n",
      "<class 'str'>\n",
      "<class 'str'>\n",
      "<class 'str'>\n",
      "<class 'str'>\n",
      "<class 'str'>\n",
      "<class 'str'>\n",
      "<class 'str'>\n",
      "<class 'str'>\n",
      "<class 'str'>\n",
      "<class 'str'>\n",
      "<class 'str'>\n",
      "<class 'str'>\n",
      "<class 'str'>\n",
      "<class 'str'>\n",
      "<class 'str'>\n",
      "<class 'str'>\n",
      "<class 'str'>\n",
      "<class 'str'>\n",
      "<class 'str'>\n",
      "<class 'str'>\n",
      "<class 'str'>\n",
      "<class 'str'>\n",
      "<class 'str'>\n",
      "<class 'str'>\n",
      "<class 'str'>\n",
      "<class 'str'>\n",
      "<class 'str'>\n",
      "<class 'str'>\n",
      "<class 'str'>\n",
      "<class 'str'>\n",
      "<class 'str'>\n",
      "<class 'str'>\n",
      "<class 'str'>\n",
      "<class 'str'>\n",
      "<class 'str'>\n",
      "<class 'str'>\n",
      "<class 'str'>\n",
      "<class 'str'>\n",
      "<class 'str'>\n",
      "<class 'str'>\n",
      "<class 'str'>\n"
     ]
    }
   ],
   "source": [
    "l = 0\n",
    "while l < len(total1):\n",
    "    if total1['articles'][l]['title'] is None:\n",
    "        total1['articles'][l]['title'] = 'None'\n",
    "    l += 1\n",
    "\n",
    "p = 0\n",
    "while p < len(total1):\n",
    "    print(type(total1['articles'][p]['title']))\n",
    "    p += 1\n",
    "# now all entries are of type string, regardless whether there is real contents."
   ]
  },
  {
   "cell_type": "markdown",
   "metadata": {},
   "source": [
    "**Contents of the column named <font color='green'>articles</font> are of <font color='green'>dict</font> type; each row contains information including <font color='green'>author</font>, <font color='green'>title</font>, <font color='green'>description</font>, <font color='green'>url</font>, <font color='green'>urlToImage</font> and <font color='green'>publishedAt</font>, among which <font color='green'>title</font> is selected for main analysis.**"
   ]
  },
  {
   "cell_type": "code",
   "execution_count": 7,
   "metadata": {
    "collapsed": false
   },
   "outputs": [
    {
     "data": {
      "text/plain": [
       "{'author': 'Carol E. Lee',\n",
       " 'description': 'President Donald Trump called on Muslim leaders across the globe to confront the “crisis of Islamic extremism,” in a speech aimed at corralling Arab allies around a new, combined effort to combat terrorism and Iranian aggression in the Middle East.',\n",
       " 'publishedAt': '2017-05-21T09:34:00Z',\n",
       " 'title': 'Trump Urges Muslims to Fight Extremism in Saudi Speech',\n",
       " 'url': 'https://www.wsj.com/articles/trumps-saudi-speech-to-mark-bid-to-ease-muslim-tensions-1495359283',\n",
       " 'urlToImage': 'https://si.wsj.net/public/resources/images/BN-TN568_34Nro_TOP_20170521053456.jpg'}"
      ]
     },
     "execution_count": 7,
     "metadata": {},
     "output_type": "execute_result"
    }
   ],
   "source": [
    "# write the news posts into a new .csv file   \n",
    "n_rows = len(total1.index)\n",
    "articles = total1['articles']\n",
    "result = csv.writer(open('result.csv','a'))\n",
    "result.writerow(['PublishedAt','Title','description'])\n",
    "for i in range(0,n_rows): \n",
    "    line = [articles[i]['publishedAt'],articles[i]['title'],articles[i]['description']]\n",
    "    result.writerow(line)\n",
    "\n",
    "# print the first item in the 'articles' series as an example.\n",
    "articles[0]"
   ]
  },
  {
   "cell_type": "code",
   "execution_count": 8,
   "metadata": {
    "collapsed": false
   },
   "outputs": [
    {
     "data": {
      "text/plain": [
       "dict"
      ]
     },
     "execution_count": 8,
     "metadata": {},
     "output_type": "execute_result"
    }
   ],
   "source": [
    "# type of each entry in the 'articles' column is 'dict'\n",
    "type(articles[0])"
   ]
  },
  {
   "cell_type": "code",
   "execution_count": 9,
   "metadata": {
    "collapsed": false
   },
   "outputs": [
    {
     "data": {
      "text/plain": [
       "dict_keys(['author', 'title', 'description', 'url', 'urlToImage', 'publishedAt'])"
      ]
     },
     "execution_count": 9,
     "metadata": {},
     "output_type": "execute_result"
    }
   ],
   "source": [
    "# keys of the 'dict' variables are 'author', 'publishedAt', 'urlToImage', 'description', 'title', 'url'\n",
    "articles[0].keys()"
   ]
  },
  {
   "cell_type": "markdown",
   "metadata": {},
   "source": [
    "** The <font color='green'>tags</font> method performs part-of-speech tagging (for example, <font color='green'>NNP</font> stands for a singular proper noun).**"
   ]
  },
  {
   "cell_type": "code",
   "execution_count": 10,
   "metadata": {
    "collapsed": false
   },
   "outputs": [
    {
     "data": {
      "text/plain": [
       "[('Trump', 'NNP'),\n",
       " ('Urges', 'NNP'),\n",
       " ('Muslims', 'NNP'),\n",
       " ('to', 'TO'),\n",
       " ('Fight', 'NNP'),\n",
       " ('Extremism', 'NNP'),\n",
       " ('in', 'IN'),\n",
       " ('Saudi', 'NNP'),\n",
       " ('Speech', 'NNP')]"
      ]
     },
     "execution_count": 10,
     "metadata": {},
     "output_type": "execute_result"
    }
   ],
   "source": [
    "blob = TextBlob(str(articles[0]['title']))\n",
    "blob.tags"
   ]
  },
  {
   "cell_type": "markdown",
   "metadata": {},
   "source": [
    "**A loop prints all the news titles, which are later used for sentiment analysis.**"
   ]
  },
  {
   "cell_type": "code",
   "execution_count": 11,
   "metadata": {
    "collapsed": false,
    "scrolled": true
   },
   "outputs": [
    {
     "name": "stdout",
     "output_type": "stream",
     "text": [
      "1. Trump Urges Muslims to Fight Extremism in Saudi Speech\n",
      "2. Taxes, Budget Are Focus for Trump Despite Probes\n",
      "3. Huntsman, Clariant Near Deal to Merge\n",
      "4. Arconic Board Vote to Test Power of Activist Investors\n",
      "5. The Quants Run Wall Street Now\n",
      "6. Ford Considering Significant Management Changes to Address Stock Price Decline\n",
      "7. North Korea Steps Up Pace of Missile Tests\n",
      "8. Bond Buyers Forgive and Forget, Flock Back to Online Lenders’ Debt\n",
      "9. All IT Jobs Are Cybersecurity Jobs Now\n",
      "10. Much-Maligned U.S. Infrastructure Shows Signs of Improvement\n",
      "11. Abroad, President Trump's reality collides with candidate Trump's words\n",
      "12. Trump's new tune on Islam unconvincing, experts say\n",
      "13. Trump's two minds on Islam\n",
      "14. Bergen: The real reason Saudis rolled out the reddest of red carpets\n",
      "15. Trump called a hypocrite for Saudi King bow - CNN Video\n",
      "16. Tillerson holds briefing in Saudi Arabia without US press\n",
      "17. Roger Stone: Trump's Saudi award 'makes me want to puke'\n",
      "18. Immigrants eye Canada as US deportation fears grow\n",
      "19. Melania Trump gets rave reviews in Saudi press\n",
      "20. North Korea fires another ballistic missile\n",
      "21. Killing C.I.A. Informants, China Crippled U.S. Spying Operations\n",
      "22. Trump Told Russians That Firing ‘Nut Job’ Comey Eased Pressure From Investigation\n",
      "23. Pregnant at 18. Hailed by Abortion Foes. Punished by Christian School.\n",
      "24. Saudis Welcome Trump’s Rebuff of Obama’s Mideast Views\n",
      "25. On ‘Saturday Night Live,’ Alec Baldwin Sings a Swan Song for Trump\n",
      "26. Trump Softens Tone on Islam but Calls for Purge of ‘Foot Soldiers of Evil’\n",
      "27. Mississippi Boy, 6, Is Killed After Car Is Stolen From His Mother\n",
      "28. House Inquiry Turns Attention to Trump Campaign Worker With Russia Ties\n",
      "29. $110 Billion Weapons Sale to Saudis Has Jared Kushner’s Personal Touch\n",
      "30. Preakness 2017 Picks: Experts’ Predictions to Win, Place and Show\n",
      "31. Trump to propose big cuts to safety net in new budget this week\n",
      "32. Trump summons Muslim nations to confront ‘Islamic terror of all kinds’\n",
      "33. Ivanka Trump meets with Saudi women leaders as some activists remain critical\n",
      "34. Kushner keeps most of his real estate but offers few clues about potential White House conflicts\n",
      "35. McMaster does not deny details of Trump’s discussion with Russian officials\n",
      "36. A millionaire, a hotel maid and an arrest after the inauguration for sex abuse\n",
      "37. Thunderous applause, tears as the ‘greatest show on Earth’ takes a final bow\n",
      "38. Georgetown professor confronts white nationalist Richard Spencer at the gym — which terminates his membership\n",
      "39. Sanders stumps for Democrat in tight Montana race\n",
      "40. Gingrich spreads conspiracy theory about slain DNC staffer\n",
      "41. Trump urges Muslim leaders to lead fight against radicalisation\n",
      "42. General election 2017: Tories 'won't look again' at social care plans\n",
      "43. Election 2017: Scottish leaders clash in heated TV debate\n",
      "44. General election 2017: Labour brings forward tuition fees pledge\n",
      "45. Mike Pence university address hit by student walk-out\n",
      "46. 'Car boot-sale' diamond set to fetch £350,000 at auction\n",
      "47. Brazil police raid Sao Paulo 'Crackland' and make arrests\n",
      "48. Ex-RBS boss Fred Goodwin to face investors in court\n",
      "49. Syria conflict: Government regains full control of Homs\n",
      "50. Ringling Brothers circus stages final show\n",
      "51. Families of Lindt Cafe victims hit out at police handling of deadly siege\n",
      "52. Ashby denies plan to cash in on One Nation election materials\n",
      "53. Forrest gives 'biggest single philanthropic gift' by living donor in Australian history\n",
      "54. What China's economic troubles mean for Australia\n",
      "55. What's actually going on in this picture of Trump touching a glowing orb?\n",
      "56. Live: Dutton says refugee lawyers can 'rant all they want'\n",
      "57. Which glass can and can't be recycled?\n",
      "58. Nine people injured in Manus Island shooting, Immigration reveals\n",
      "59. 'Huge mess' at Royal Park in Melbourne after tram collides with truck\n",
      "60. Real-life Candy reveals 'horrific' path from drug addiction to redemption\n",
      "61. Trump attacks Iran in ‘good and evil’ speech\n",
      "62. New world of Chinese palace intrigue\n",
      "63. Huntsman and Clariant set to announce $14bn tie-up\n",
      "64. US solar power groups await critical tariff ruling\n",
      "65. Trump faces tough fight to gain budget support\n",
      "66. Center Parcs hails ‘huge’ China opportunity\n",
      "67. Macau casinos cash in as China luxury rebounds\n",
      "68. US Hispanics: Too scared to spend\n",
      "69. The case for higher US taxes\n",
      "70. Lawyers vote for Brazil president’s impeachment\n",
      "71. Why China Must Figure Out How to Feed the Whole World\n",
      "72. With Three Words Missing, Trump Tries to Change Tone on Muslims\n",
      "73. Chaffetz Says He'll Talk to Deposed FBI Director Comey on Monday\n",
      "74. Cathay Pacific Cuts 600 Jobs as Part of Reorganization\n",
      "75. Huntsman and Clariant Are in Talks Toward a $14 Billion Merger\n",
      "76. Tesla Focuses on Connecticut's Budget Woes in Latest Bid for Direct Sales\n",
      "77. Commodity Traders Are Stuck in a World Where Everybody Knows Everything\n",
      "78. Times Square Driver Says He Tried to Get Mental Help\n",
      "79. Latest North Korea Missile Launch Tests Moon's Team of Doves\n",
      "80. Ghost of the 1997 Crisis Stalks Hong Kong's Economy\n",
      "81. Donald Trump’s reset on Islam\n",
      "82. Deadline pressure for Colombia’s peace agreement\n",
      "83. The Tories’ social care plan is a death tax by another name\n",
      "84. Sweden is trying to turn people Swedish\n",
      "85. The NextGen scoring system could help bring tennis into the 21st century\n",
      "86. One state or two?\n",
      "87. Race-based affirmative action is failing poor Malaysians\n",
      "88. Emmanuel Macron appoints a post-partisan government\n",
      "89. WannaCry should make people treat cyber-crime seriously\n",
      "90. Australians debate how to avoid shark attacks\n"
     ]
    }
   ],
   "source": [
    "i = 0\n",
    "while i < n_rows:\n",
    "    blob = TextBlob(articles[i]['title'])\n",
    "    print(1 + i, \". \", blob, sep = \"\")\n",
    "    i += 1"
   ]
  },
  {
   "cell_type": "markdown",
   "metadata": {},
   "source": [
    "**All descriptions for the 100 news posts are printed in the same way as above; their presence is useful for adding accuracy for our sentiment analysis by providing more words on the same topic as the titles.**"
   ]
  },
  {
   "cell_type": "code",
   "execution_count": 12,
   "metadata": {
    "collapsed": false
   },
   "outputs": [
    {
     "name": "stdout",
     "output_type": "stream",
     "text": [
      "1. President Donald Trump called on Muslim leaders across the globe to confront the “crisis of Islamic extremism,” in a speech aimed at corralling Arab allies around a new, combined effort to combat terrorism and Iranian aggression in the Middle East.\n",
      "2. President Trump’s policy agenda faces tests this week as he looks to shift the focus from Russia investigations to his plans for boosting U.S. military power and revamping the tax code.\n",
      "3. Huntsman and Switzerland’s Clariant are near an agreement to merge, an all-stock deal that would create a chemicals giant with a combined market value of about $14 billion.\n",
      "4. The future of Arconic Inc. is up for grabs this week in a tightly fought shareholder vote that will test the growing power of activist investors.\n",
      "5. For decades, investors imagined a time when data-driven traders would dominate financial markets. That day has arrived.\n",
      "6. Ford is considering significant changes to its senior leadership team amid tension among top executives, dissatisfaction with the stock price and a drive to clarify the auto maker’s strategy.\n",
      "7. North Korean leader Kim Jong Un described the results of the country’s successful launch its second ballistic missile in a little more than a week as “perfect,” as Pyongyang increases the pace of its testing in its quest to develop the ability to strike the continental U.S. with a nuclear-tipped weapon.\n",
      "8. The initial appeal of upstart, online lenders was that they would disrupt traditional loan markets. But after big setbacks last year, the firms are adjusting to be a little more Wall Street and a little less Silicon Valley.\n",
      "9. The global ‘WannaCry’ ransomware attack that affected computers in 150 countries and the growing threat of new malware illustrate a basic problem that will become more pressing as more of our systems become connected.\n",
      "10. The Trump administration and congressional Democrats frequently bemoan America’s aging infrastructure and have promised to spending to fix it. Less noisily discussed: The nation is making progress in some key areas of decaying infrastructure.\n",
      "11. Few might have expected that four months into his term President Donald Trump would find himself addressing a room of Muslim leaders after a night surrounded by dancing, drumming Saudi men.\n",
      "12. President Trump's speech Sunday will likely be met with skepticism and frustration in the Muslim world, according to Middle East experts who said his sudden shift in tone on Islam was unconvincing.\n",
      "13. President Trump's much-anticipated speech on Islam in Saudi Arabia on Sunday was consistently inconsistent.\n",
      "14. Trump's visit to Riyadh comes at a critical time for the Saudi government, as it seeks to transform its economy from exclusive oil revenue dependency to one more diversified, writes Peter Bergen.\n",
      "15. President Donald Trump was criticized as a hypocrite for seemingly bowing before the Saudi King, an act for which he had criticized then-President Barack Obama for doing back in 2012.\n",
      "16. Secretary of State Rex Tillerson held a press briefing in Saudi Arabia -- and members of the U.S. press weren't invited.\n",
      "17. As President Donald Trump celebrated what he called a \"tremendous\" first day in Saudi Arabia, his onetime campaign adviser and longtime confidante Roger Stone expressed nothing but aversion for the Gulf nation and parts of the President's trip.\n",
      "18. As a growing number of Latin American immigrants say they're considering Canada, experts offer words of caution.\n",
      "19. First lady Melania Trump's fashion choices got rave reviews in local Saudi Arabian press Sunday, despite forgoing the customary headscarf.\n",
      "20. North Korea fired an unidentified ballistic missile, according to the South Korean military's Joint Chiefs of Staff.\n",
      "21. At least 18 C.I.A. sources were killed or imprisoned in China between 2010 and 2012, one of the worst intelligence breaches in decades. Investigators still disagree about how it happened.\n",
      "22. The conversation reinforces the notion that President Trump dismissed him primarily because of the bureau’s investigation into possible collusion between his campaign and Russian operatives.\n",
      "23. A high school senior’s story sheds light on a delicate issue: how Christian schools, which advocate abstinence until marriage, treat pregnant teenagers.\n",
      "24. President Trump was received warmly in Riyadh by Saudi leaders who appeared to embrace an American leader intent on supporting Sunni Muslim countries.\n",
      "25. “S.N.L.” paid homage to itself by having Mr. Baldwin sing Leonard Cohen’s “Hallelujah.” The host, Dwayne Johnson, considered a presidential run with Tom Hanks.\n",
      "26. In a speech in Saudi Arabia, President Trump spoke in measured tones far from his incendiary language last year and called for a renewed fight against terrorism.\n",
      "27. The mother had gone into a store and had left the car running with the boy in the back seat, according to local reports.\n",
      "28. Michael Caputo, who was a communications adviser during the presidential race, has been asked to sit for an interview and to provide documents about his connections to the Kremlin.\n",
      "29. Mr. Kushner called the head of Lockheed Martin while he met with Saudi officials, showing President Trump’s eagerness for a major deal before his first foreign trip.\n",
      "30. Will Always Dreaming complete the second leg of horse racing’s Triple Crown? Joe Drape and Melissa Hoppert weigh in on the contenders.\n",
      "31. The president will deliver his most detailed look at how he wants to change government.\n",
      "32. “We are not here to lecture,” he said in a speech starkly different from the one Obama delivered to the Muslim world in 2009.\n",
      "33. The president’s daughter brought her message of female empowerment to the world’s most repressive society for females, but some activists questioned the effectiveness of the meeting.\n",
      "34. The president’s son-in-law and top adviser retained 90 percent of those holdings, a Post analysis shows.\n",
      "35. The national security adviser said Trump was only trying to find common ground with the Russians.\n",
      "36. CEO John Boswell pleaded guilty to misdemeanor sexual abuse after a groping incident at the Mayflower Hotel.\n",
      "37. The Ringling Bros. circus, buffeted by changing times and mores, shutters after 146 years.\n",
      "38. The encounter happened Wednesday at Old Town Sport&Health in Alexandria.\n",
      "39. Senator raises stakes by calling for defeat of “candidate of the millionaires.”\n",
      "40. There is no evidence that Seth Rich had contacted WikiLeaks, despite the former House speaker's claims.\n",
      "41. The US president uses major speech to urge Muslim states to take the lead against radicalisation.\n",
      "42. Work and Pensions Secretary Damian Green says £100,000 is \"a reasonable inheritance to have\".\n",
      "43. Nicola Sturgeon and Ruth Davidson trade blows on independence and immigration in a BBC TV debate.\n",
      "44. Labour says students starting university in England this autumn would not pay fees.\n",
      "45. Dozens of students staged a walk-out when the US vice-president addressed a ceremony in Indiana.\n",
      "46. The owner thought the £10 ring with and \"exceptionally sized\" stone was a costume jewel.\n",
      "47. Some 500 officers took part in the operation in an area where crack cocaine has been consumed freely.\n",
      "48. Former top bankers at RBS will appear in court for the first time since the bank's near collapse.\n",
      "49. Government officials say rebels have left the last district they controlled in the central city.\n",
      "50. After 146 years, the Ringling Bros and Barnum & Bailey Circus holds its final show in New York.\n",
      "51. The families of Tori Johnson and Katrina Dawson speak about their experience on the day and their anger and frustration in the aftermath of the Sydney siege.\n",
      "52. Pauline Hanson's chief of staff James Ashby denies One Nation has been profiteering, after a recording is leaked of him discussing a plan to sell campaign material to the party's candidates for inflated prices.\n",
      "53. Mining magnate Andrew Twiggy Forrest and his wife Nicola are donating $400 million to be used for a number of causes.\n",
      "54. Any hiccups from China will rattle our economy — and the past week has seen some concerning signals emanating from Beijing that all may not be well.\n",
      "55. US President Donald Trump and Muslim leaders are seen gathering around an ominous glowing orb in a scene that's been compared to a scene from Lord of the Rings. But no, this isn't the Eye of Sauron.\n",
      "56. Immigration Minister Peter Dutton defends a decision to deport up to 7,500 asylum seekers if they do not apply for protection visas by October. Follow live.\n",
      "57. Which glass items should we leave out of the recycle bin?\n",
      "58. Senate estimates hears that a number of weapons were fired in the Good Friday Manus Island Shooting.\n",
      "59. Fourteen people are taken to hospital after a truck collided with a tram at Parkville in Melbourne's inner-north.\n",
      "60. The 2006 Australian film Candy exposed Megan Bannister's former life as a heroin addict and prostitute. Her redemption story has largely gone unnoticed — until now.\n",
      "61. None\n",
      "62. None\n",
      "63. None\n",
      "64. None\n",
      "65. None\n",
      "66. None\n",
      "67. None\n",
      "68. None\n",
      "69. None\n",
      "70. None\n",
      "71. It faces a stark ultimatum.\n",
      "72. President Donald Trump set aside a defiant catchphrase of his political campaign in his first major address to the Muslim world, refraining from using “radical Islamic terrorism” to describe the threat.\n",
      "73. The Republican chairman of the House Oversight and Government Reform Committee said he’ll talk to deposed FBI Director James Comey on Monday and is pursuing any records of President Donald Trump’s meetings with the fired Federal Bureau of Investigation director.\n",
      "74. Cathay Pacific Airways Ltd., Asia’s biggest international airline, will eliminate 600 jobs, including 190 managerial positions, as part of the biggest revamp in two decades to help revive earnings.\n",
      "75. Huntsman Corp. and Clariant AG are in talks to merge in a transatlantic deal that would create a chemicals company valued at about $14 billion, according to a person familiar with the discussions.\n",
      "76. Maybe all that’s standing between Tesla Inc. and the driveways of some of America’s wealthiest residents is a little financial disarray.\n",
      "77. For commodity traders operating in the Information Age, just good old trading doesn’t cut it anymore.\n",
      "78. New York (AP) -- A man accused of mowing down pedestrians in Times Square, killing a teenage Michigan tourist and injuring 22 others, said he had been trying to get psychiatric help.\n",
      "79. Kim Jong Un isn’t giving South Korea’s new leader much room to try out a softer approach toward his regime.\n",
      "80. In 1997, the Asian financial crisis touched off a six-year property bust in Hong Kong that shaved more than two-thirds off prices and saddled the city with a stagnant economy and deflation.\n",
      "81. The American president keeps quiet about human rights in the Muslim world\n",
      "82. Delays in implementing the accord are worrying, but not fatal\n",
      "83. Much of the cost of social care would be passed on to the children\n",
      "84. The world’s greatest welcomers of refugees must work out how to assimilate them\n",
      "85. First-to-four-games sets with no-ad scoring shortens matches and preserves excitement without being unfair to the better player\n",
      "86. Israel’s dangerous drift to chauvinism may make a solution ever harder to find\n",
      "87. The government reserves even mobile-phone stalls for people of indigenous descent\n",
      "88. A month ahead of legislative elections, France’s president anchors himself in the centre\n",
      "89. It has been neglected for too long\n",
      "90. Public opinion favours deterrence over culling the fearsome fish\n"
     ]
    }
   ],
   "source": [
    "j = 0\n",
    "while j < n_rows:\n",
    "    blob1 = TextBlob(str(articles[j]['description']))\n",
    "    print(1 + j, \". \", blob1, sep = \"\")\n",
    "    j += 1"
   ]
  },
  {
   "cell_type": "markdown",
   "metadata": {},
   "source": [
    "# PART 2: WORD CLOUD"
   ]
  },
  {
   "cell_type": "markdown",
   "metadata": {},
   "source": [
    "**A word cloud of news tiltles can provide us with a direct and vivid impression of the most frequently discussed topics in today's news reports. Topic/person/event that prevails among the top news pieces appears in the largest font, occupies the center space and displays the most salient colors.**\n",
    "\n",
    "**In a visually pleasant way, a word cloud gives us a hint for the news sentiment of the day.**\n",
    "#### Code referred to https://github.com/amueller/word_cloud/blob/master/examples/simple.py"
   ]
  },
  {
   "cell_type": "code",
   "execution_count": 13,
   "metadata": {
    "collapsed": false
   },
   "outputs": [],
   "source": [
    "#write the csv file into a txt file called entire_text.txt\n",
    "contents = csv.reader(open('result.csv','r'))\n",
    "texts = open('entire_text.txt','w')\n",
    "list_of_text = []\n",
    "for row in contents:\n",
    "    line = row[2].encode('utf-8')\n",
    "    line = str(line.decode())\n",
    "    list_of_text.append(line)\n",
    "texts.writelines(list_of_text)"
   ]
  },
  {
   "cell_type": "code",
   "execution_count": 14,
   "metadata": {
    "collapsed": false
   },
   "outputs": [],
   "source": [
    "text=open(\"entire_text.txt\",'r')\n",
    "text=text.read()\n",
    "wordcloud = WordCloud().generate(text)"
   ]
  },
  {
   "cell_type": "code",
   "execution_count": 15,
   "metadata": {
    "collapsed": false
   },
   "outputs": [
    {
     "data": {
      "text/plain": [
       "(-0.5, 399.5, 199.5, -0.5)"
      ]
     },
     "execution_count": 15,
     "metadata": {},
     "output_type": "execute_result"
    },
    {
     "data": {
      "image/png": "[encoded data removed]",
      "text/plain": [
       "<matplotlib.figure.Figure at 0x11b4887f0>"
      ]
     },
     "metadata": {},
     "output_type": "display_data"
    }
   ],
   "source": [
    "#display the generated image\n",
    "plt.imshow(wordcloud, interpolation='bilinear')\n",
    "plt.axis(\"off\")"
   ]
  },
  {
   "cell_type": "code",
   "execution_count": 16,
   "metadata": {
    "collapsed": false
   },
   "outputs": [
    {
     "data": {
      "image/png": "[encoded data removed]",
      "text/plain": [
       "<matplotlib.figure.Figure at 0x11992feb8>"
      ]
     },
     "metadata": {},
     "output_type": "display_data"
    }
   ],
   "source": [
    "# increase max_font_size and change backgroud color to white \n",
    "wordcloud = WordCloud(max_font_size=40).generate(text)\n",
    "wordcloud = WordCloud(max_words=200,background_color='white',max_font_size=100).generate(text)\n",
    "plt.figure()\n",
    "plt.imshow(wordcloud, interpolation=\"bilinear\")\n",
    "plt.axis(\"off\")\n",
    "plt.show()"
   ]
  },
  {
   "cell_type": "markdown",
   "metadata": {},
   "source": [
    "# PART 3: SENTIMENT ANALYSIS\n",
    "**We use <font color='green'>.sentiment</font> method from <font color='green'>TextBlob</font> to calculate polatiry and subjectivity of each <font color='green'>title</font>.\n",
    "The <font color='green'>sentiment</font> property returns an output in the form of <font color='green'>namedtuple</font> (`Sentiment(polarity, subjectivity)`). The polarity score is a float within the range `[-1.0, 1.0]`. The subjectivity is a float within the range `[0.0, 1.0]` where `0.0` is very objective and `1.0` is very subjective.**"
   ]
  },
  {
   "cell_type": "code",
   "execution_count": 17,
   "metadata": {
    "collapsed": false,
    "scrolled": true
   },
   "outputs": [
    {
     "name": "stdout",
     "output_type": "stream",
     "text": [
      "Sentiment(polarity=0.0, subjectivity=0.0)\n",
      "Sentiment(polarity=0.0, subjectivity=0.0)\n",
      "Sentiment(polarity=0.1, subjectivity=0.4)\n",
      "Sentiment(polarity=0.0, subjectivity=0.0)\n",
      "Sentiment(polarity=0.0, subjectivity=0.0)\n",
      "Sentiment(polarity=0.375, subjectivity=0.875)\n",
      "Sentiment(polarity=0.0, subjectivity=0.0)\n",
      "Sentiment(polarity=0.0, subjectivity=0.0)\n",
      "Sentiment(polarity=0.0, subjectivity=0.0)\n",
      "Sentiment(polarity=0.0, subjectivity=0.0)\n",
      "Sentiment(polarity=0.0, subjectivity=0.0)\n",
      "Sentiment(polarity=0.13636363636363635, subjectivity=0.45454545454545453)\n",
      "Sentiment(polarity=0.0, subjectivity=0.0)\n",
      "Sentiment(polarity=0.1, subjectivity=0.15000000000000002)\n",
      "Sentiment(polarity=0.0, subjectivity=0.0)\n",
      "Sentiment(polarity=0.0, subjectivity=0.0)\n",
      "Sentiment(polarity=0.0, subjectivity=0.0)\n",
      "Sentiment(polarity=0.0, subjectivity=0.0)\n",
      "Sentiment(polarity=0.0, subjectivity=0.0)\n",
      "Sentiment(polarity=0.0, subjectivity=0.0)\n",
      "Sentiment(polarity=0.0, subjectivity=0.0)\n",
      "Sentiment(polarity=0.0, subjectivity=0.0)\n",
      "Sentiment(polarity=0.16666666666666666, subjectivity=0.25)\n",
      "Sentiment(polarity=0.8, subjectivity=0.9)\n",
      "Sentiment(polarity=0.13636363636363635, subjectivity=0.5)\n",
      "Sentiment(polarity=-1.0, subjectivity=1.0)\n",
      "Sentiment(polarity=-0.2, subjectivity=0.0)\n",
      "Sentiment(polarity=0.0, subjectivity=0.0)\n",
      "Sentiment(polarity=0.0, subjectivity=0.3)\n",
      "Sentiment(polarity=0.8, subjectivity=0.4)\n",
      "Sentiment(polarity=0.04545454545454545, subjectivity=0.18484848484848485)\n",
      "Sentiment(polarity=0.0, subjectivity=0.0)\n",
      "Sentiment(polarity=0.0, subjectivity=0.8)\n",
      "Sentiment(polarity=0.09999999999999998, subjectivity=0.31666666666666665)\n",
      "Sentiment(polarity=0.0, subjectivity=0.0)\n",
      "Sentiment(polarity=-0.05, subjectivity=0.0)\n",
      "Sentiment(polarity=0.5, subjectivity=1.0)\n",
      "Sentiment(polarity=0.0, subjectivity=0.0)\n",
      "Sentiment(polarity=-0.17857142857142858, subjectivity=0.2857142857142857)\n",
      "Sentiment(polarity=0.0, subjectivity=0.0)\n",
      "Sentiment(polarity=0.0, subjectivity=0.0)\n",
      "Sentiment(polarity=0.04166666666666667, subjectivity=0.2833333333333333)\n",
      "Sentiment(polarity=0.0, subjectivity=0.0)\n",
      "Sentiment(polarity=0.05000000000000002, subjectivity=0.5)\n",
      "Sentiment(polarity=0.0, subjectivity=0.0)\n",
      "Sentiment(polarity=0.0, subjectivity=0.0)\n",
      "Sentiment(polarity=0.0, subjectivity=0.0)\n",
      "Sentiment(polarity=0.0, subjectivity=0.0)\n",
      "Sentiment(polarity=0.35, subjectivity=0.55)\n",
      "Sentiment(polarity=0.0, subjectivity=1.0)\n",
      "Sentiment(polarity=-0.2, subjectivity=0.4)\n",
      "Sentiment(polarity=0.0, subjectivity=0.0)\n",
      "Sentiment(polarity=-0.03571428571428571, subjectivity=0.10714285714285714)\n",
      "Sentiment(polarity=-0.056249999999999994, subjectivity=0.44375)\n",
      "Sentiment(polarity=0.25, subjectivity=0.3)\n",
      "Sentiment(polarity=0.13636363636363635, subjectivity=0.5)\n",
      "Sentiment(polarity=0.0, subjectivity=0.0)\n",
      "Sentiment(polarity=0.0, subjectivity=0.0)\n",
      "Sentiment(polarity=0.11250000000000004, subjectivity=0.5375)\n",
      "Sentiment(polarity=-1.0, subjectivity=1.0)\n",
      "Sentiment(polarity=-0.15000000000000002, subjectivity=0.8)\n",
      "Sentiment(polarity=0.06818181818181818, subjectivity=0.22727272727272727)\n",
      "Sentiment(polarity=0.0, subjectivity=0.0)\n",
      "Sentiment(polarity=0.0, subjectivity=0.8)\n",
      "Sentiment(polarity=-0.3888888888888889, subjectivity=0.8333333333333334)\n",
      "Sentiment(polarity=0.15000000000000002, subjectivity=0.5)\n",
      "Sentiment(polarity=0.0, subjectivity=0.0)\n",
      "Sentiment(polarity=0.0, subjectivity=0.0)\n",
      "Sentiment(polarity=0.25, subjectivity=0.5)\n",
      "Sentiment(polarity=0.0, subjectivity=0.0)\n",
      "Sentiment(polarity=0.2, subjectivity=0.4)\n",
      "Sentiment(polarity=-0.15000000000000002, subjectivity=0.225)\n",
      "Sentiment(polarity=0.0, subjectivity=0.0)\n",
      "Sentiment(polarity=0.0, subjectivity=0.0)\n",
      "Sentiment(polarity=0.0, subjectivity=0.0)\n",
      "Sentiment(polarity=0.3, subjectivity=0.65)\n",
      "Sentiment(polarity=0.0, subjectivity=0.0)\n",
      "Sentiment(polarity=-0.1, subjectivity=0.2)\n",
      "Sentiment(polarity=0.5, subjectivity=0.9)\n",
      "Sentiment(polarity=0.0, subjectivity=0.0)\n",
      "Sentiment(polarity=0.0, subjectivity=0.0)\n",
      "Sentiment(polarity=0.0, subjectivity=0.0)\n",
      "Sentiment(polarity=0.03333333333333333, subjectivity=0.06666666666666667)\n",
      "Sentiment(polarity=0.0, subjectivity=0.0)\n",
      "Sentiment(polarity=0.0, subjectivity=0.0)\n",
      "Sentiment(polarity=0.0, subjectivity=0.0)\n",
      "Sentiment(polarity=0.09999999999999998, subjectivity=0.5333333333333333)\n",
      "Sentiment(polarity=0.0, subjectivity=0.0)\n",
      "Sentiment(polarity=-0.3333333333333333, subjectivity=0.6666666666666666)\n",
      "Sentiment(polarity=0.0, subjectivity=0.0)\n"
     ]
    }
   ],
   "source": [
    "# a loop to show sentiment analysis results of the 100 titles\n",
    "n = 0\n",
    "while n < n_rows:\n",
    "    print(TextBlob(articles[n]['title']).sentiment)\n",
    "    n += 1"
   ]
  },
  {
   "cell_type": "markdown",
   "metadata": {},
   "source": [
    "**From the TextBlob module, the <font color='green'>.sentiment</font> method returns results in the form of <font color='green'>namedtuples</font>. Elements in <font color='green'>namedtuples</font> can only be printed after being appended into the form of a <font color='green'>list</font>. Therefore, we use a <font color='green'>list</font> named <font color='green'>tests_title</font> to store all the results from our sentiment tests on the news titles.**"
   ]
  },
  {
   "cell_type": "code",
   "execution_count": 18,
   "metadata": {
    "collapsed": false
   },
   "outputs": [],
   "source": [
    "N = 0\n",
    "tests_title = []\n",
    "\n",
    "while N < n_rows:\n",
    "    tests_title.append(TextBlob(articles[N]['title']).sentiment)\n",
    "    N += 1"
   ]
  },
  {
   "cell_type": "markdown",
   "metadata": {},
   "source": [
    "**We create a list named <font color='green'>list_polarity_title</font> to store polarity scores for news titles.**"
   ]
  },
  {
   "cell_type": "code",
   "execution_count": 19,
   "metadata": {
    "collapsed": true
   },
   "outputs": [],
   "source": [
    "list_polarity_title = [] # this list contains all titles polarity scores.\n",
    "\n",
    "for test in tests_title:\n",
    "    list_polarity_title.append(test.polarity) "
   ]
  },
  {
   "cell_type": "markdown",
   "metadata": {},
   "source": [
    "** Similarly, we create a list of subjectivity scores for news titles.**"
   ]
  },
  {
   "cell_type": "code",
   "execution_count": 20,
   "metadata": {
    "collapsed": false
   },
   "outputs": [],
   "source": [
    "list_subjectivity_title = [] # this list contains all titles subjectivity scores.\n",
    "\n",
    "for test in tests_title:\n",
    "    list_subjectivity_title.append(test.subjectivity)"
   ]
  },
  {
   "cell_type": "markdown",
   "metadata": {},
   "source": [
    "### 'description'"
   ]
  },
  {
   "cell_type": "markdown",
   "metadata": {},
   "source": [
    "**We use <font color='green'>.sentiment</font> method again to calculate <font color='green'>polarity</font> and <font color='green'>subjectivity</font> of each <font color='green'>description</font>. As mentioned above, analysis on descritions make the final results more versatile and hopefully more accurate.**"
   ]
  },
  {
   "cell_type": "code",
   "execution_count": 21,
   "metadata": {
    "collapsed": false,
    "scrolled": true
   },
   "outputs": [
    {
     "name": "stdout",
     "output_type": "stream",
     "text": [
      "Sentiment(polarity=0.06818181818181818, subjectivity=0.22727272727272727)\n",
      "Sentiment(polarity=-0.1, subjectivity=0.1)\n",
      "Sentiment(polarity=0.05, subjectivity=0.7)\n",
      "Sentiment(polarity=-0.08928571428571429, subjectivity=0.20535714285714285)\n",
      "Sentiment(polarity=0.0, subjectivity=0.0)\n",
      "Sentiment(polarity=0.4375, subjectivity=0.6875)\n",
      "Sentiment(polarity=0.4125, subjectivity=0.5900000000000001)\n",
      "Sentiment(polarity=-0.005208333333333332, subjectivity=0.3104166666666667)\n",
      "Sentiment(polarity=0.22727272727272724, subjectivity=0.3159090909090909)\n",
      "Sentiment(polarity=-0.022222222222222216, subjectivity=0.45555555555555555)\n",
      "Sentiment(polarity=-0.15000000000000002, subjectivity=0.25)\n",
      "Sentiment(polarity=0.0, subjectivity=0.5)\n",
      "Sentiment(polarity=0.25, subjectivity=0.25)\n",
      "Sentiment(polarity=0.25, subjectivity=0.65)\n",
      "Sentiment(polarity=0.0, subjectivity=0.0)\n",
      "Sentiment(polarity=0.0, subjectivity=0.0)\n",
      "Sentiment(polarity=0.3111111111111111, subjectivity=0.6944444444444445)\n",
      "Sentiment(polarity=0.0, subjectivity=0.0)\n",
      "Sentiment(polarity=0.125, subjectivity=0.16666666666666666)\n",
      "Sentiment(polarity=-0.1, subjectivity=0.1)\n",
      "Sentiment(polarity=-0.5, subjectivity=0.4666666666666666)\n",
      "Sentiment(polarity=0.13333333333333333, subjectivity=0.5)\n",
      "Sentiment(polarity=0.11866666666666667, subjectivity=0.5279999999999999)\n",
      "Sentiment(polarity=0.2833333333333333, subjectivity=0.2833333333333333)\n",
      "Sentiment(polarity=0.0, subjectivity=0.0)\n",
      "Sentiment(polarity=0.05, subjectivity=0.5333333333333333)\n",
      "Sentiment(polarity=0.0, subjectivity=0.0)\n",
      "Sentiment(polarity=0.0, subjectivity=0.0)\n",
      "Sentiment(polarity=0.0625, subjectivity=0.3194444444444444)\n",
      "Sentiment(polarity=0.05, subjectivity=0.2)\n",
      "Sentiment(polarity=0.3666666666666667, subjectivity=0.45)\n",
      "Sentiment(polarity=0.0, subjectivity=0.6)\n",
      "Sentiment(polarity=0.25, subjectivity=0.3333333333333333)\n",
      "Sentiment(polarity=0.5, subjectivity=0.5)\n",
      "Sentiment(polarity=-0.15, subjectivity=0.75)\n",
      "Sentiment(polarity=0.0, subjectivity=0.9166666666666667)\n",
      "Sentiment(polarity=0.0, subjectivity=0.0)\n",
      "Sentiment(polarity=0.1, subjectivity=0.2)\n",
      "Sentiment(polarity=0.0, subjectivity=0.0)\n",
      "Sentiment(polarity=0.1875, subjectivity=0.375)\n",
      "Sentiment(polarity=0.0625, subjectivity=0.5)\n",
      "Sentiment(polarity=0.0, subjectivity=0.44999999999999996)\n",
      "Sentiment(polarity=0.0, subjectivity=0.0)\n",
      "Sentiment(polarity=0.0, subjectivity=0.1)\n",
      "Sentiment(polarity=0.0, subjectivity=0.0)\n",
      "Sentiment(polarity=0.6666666666666666, subjectivity=1.0)\n",
      "Sentiment(polarity=0.4, subjectivity=0.8)\n",
      "Sentiment(polarity=0.2125, subjectivity=0.30833333333333335)\n",
      "Sentiment(polarity=0.0, subjectivity=0.10555555555555556)\n",
      "Sentiment(polarity=0.06818181818181818, subjectivity=0.7272727272727273)\n",
      "Sentiment(polarity=-0.7, subjectivity=0.2)\n",
      "Sentiment(polarity=0.0, subjectivity=0.0)\n",
      "Sentiment(polarity=0.0, subjectivity=0.0)\n",
      "Sentiment(polarity=-0.25, subjectivity=0.25)\n",
      "Sentiment(polarity=0.0, subjectivity=0.0)\n",
      "Sentiment(polarity=0.13636363636363635, subjectivity=0.5)\n",
      "Sentiment(polarity=0.0, subjectivity=0.0)\n",
      "Sentiment(polarity=0.7, subjectivity=0.6000000000000001)\n",
      "Sentiment(polarity=0.0, subjectivity=0.0)\n",
      "Sentiment(polarity=0.0035714285714285657, subjectivity=0.2571428571428571)\n",
      "Sentiment(polarity=0.0, subjectivity=0.0)\n",
      "Sentiment(polarity=0.0, subjectivity=0.0)\n",
      "Sentiment(polarity=0.0, subjectivity=0.0)\n",
      "Sentiment(polarity=0.0, subjectivity=0.0)\n",
      "Sentiment(polarity=0.0, subjectivity=0.0)\n",
      "Sentiment(polarity=0.0, subjectivity=0.0)\n",
      "Sentiment(polarity=0.0, subjectivity=0.0)\n",
      "Sentiment(polarity=0.0, subjectivity=0.0)\n",
      "Sentiment(polarity=0.0, subjectivity=0.0)\n",
      "Sentiment(polarity=0.0, subjectivity=0.0)\n",
      "Sentiment(polarity=-0.2, subjectivity=0.6)\n",
      "Sentiment(polarity=0.10416666666666667, subjectivity=0.3111111111111111)\n",
      "Sentiment(polarity=0.0, subjectivity=0.0)\n",
      "Sentiment(polarity=0.0, subjectivity=0.0)\n",
      "Sentiment(polarity=0.375, subjectivity=0.5)\n",
      "Sentiment(polarity=-0.09375, subjectivity=0.25)\n",
      "Sentiment(polarity=0.39999999999999997, subjectivity=0.4)\n",
      "Sentiment(polarity=-0.006397306397306411, subjectivity=0.24781144781144782)\n",
      "Sentiment(polarity=0.16818181818181818, subjectivity=0.32727272727272727)\n",
      "Sentiment(polarity=0.16666666666666666, subjectivity=0.16666666666666666)\n",
      "Sentiment(polarity=0.0, subjectivity=0.14444444444444446)\n",
      "Sentiment(polarity=0.0, subjectivity=0.0)\n",
      "Sentiment(polarity=0.11666666666666667, subjectivity=0.13333333333333333)\n",
      "Sentiment(polarity=1.0, subjectivity=1.0)\n",
      "Sentiment(polarity=0.0, subjectivity=0.75)\n",
      "Sentiment(polarity=-0.35, subjectivity=0.45)\n",
      "Sentiment(polarity=0.0, subjectivity=0.0)\n",
      "Sentiment(polarity=0.0, subjectivity=0.0)\n",
      "Sentiment(polarity=-0.05, subjectivity=0.4)\n",
      "Sentiment(polarity=0.0, subjectivity=0.06666666666666667)\n"
     ]
    }
   ],
   "source": [
    "m = 0\n",
    "while m < n_rows:\n",
    "    print(TextBlob(articles[m]['description']).sentiment)\n",
    "    m += 1"
   ]
  },
  {
   "cell_type": "code",
   "execution_count": 22,
   "metadata": {
    "collapsed": false
   },
   "outputs": [],
   "source": [
    "M = 0\n",
    "tests_description = []\n",
    "\n",
    "while M < n_rows:\n",
    "    tests_description.append(TextBlob(articles[M]['description']).sentiment)\n",
    "    M += 1"
   ]
  },
  {
   "cell_type": "markdown",
   "metadata": {},
   "source": [
    "**We create a list of polarity scores for news descriptions by appending each polarity score to the list named <font color='green'>list_polarity_description</font>.**"
   ]
  },
  {
   "cell_type": "code",
   "execution_count": 23,
   "metadata": {
    "collapsed": false
   },
   "outputs": [],
   "source": [
    "list_polarity_description = [] # this list contains all descriptions' polarity scores.\n",
    "\n",
    "for test in tests_description:\n",
    "    list_polarity_description.append(test.polarity)"
   ]
  },
  {
   "cell_type": "markdown",
   "metadata": {},
   "source": [
    "**Same as above, we create a list of subjectivity for news descriptions.**"
   ]
  },
  {
   "cell_type": "code",
   "execution_count": 24,
   "metadata": {
    "collapsed": false
   },
   "outputs": [],
   "source": [
    "list_subjectivity_description = [] # this list contains all descriptions' subjectivity scores.\n",
    "\n",
    "for test in tests_description:\n",
    "    list_subjectivity_description.append(test.subjectivity)"
   ]
  },
  {
   "cell_type": "markdown",
   "metadata": {},
   "source": [
    "**Now we have four lists of data:**\n",
    "1. list_polarity_title\n",
    "2. list_subjectivity_title\n",
    "3. list_polarity_description\n",
    "4. list_subjectivity_description\n",
    "\n",
    "**We convert the four lists of data into one dataframe for drawing plots.**"
   ]
  },
  {
   "cell_type": "code",
   "execution_count": 25,
   "metadata": {
    "collapsed": false
   },
   "outputs": [
    {
     "data": {
      "text/html": [
       "<div>\n",
       "<table border=\"1\" class=\"dataframe\">\n",
       "  <thead>\n",
       "    <tr style=\"text-align: right;\">\n",
       "      <th></th>\n",
       "      <th>0</th>\n",
       "      <th>1</th>\n",
       "      <th>2</th>\n",
       "      <th>3</th>\n",
       "      <th>4</th>\n",
       "      <th>5</th>\n",
       "      <th>6</th>\n",
       "      <th>7</th>\n",
       "      <th>8</th>\n",
       "      <th>9</th>\n",
       "      <th>...</th>\n",
       "      <th>80</th>\n",
       "      <th>81</th>\n",
       "      <th>82</th>\n",
       "      <th>83</th>\n",
       "      <th>84</th>\n",
       "      <th>85</th>\n",
       "      <th>86</th>\n",
       "      <th>87</th>\n",
       "      <th>88</th>\n",
       "      <th>89</th>\n",
       "    </tr>\n",
       "  </thead>\n",
       "  <tbody>\n",
       "    <tr>\n",
       "      <th>T_polarity</th>\n",
       "      <td>0.000000</td>\n",
       "      <td>0.0</td>\n",
       "      <td>0.10</td>\n",
       "      <td>0.000000</td>\n",
       "      <td>0.0</td>\n",
       "      <td>0.3750</td>\n",
       "      <td>0.0000</td>\n",
       "      <td>0.000000</td>\n",
       "      <td>0.000000</td>\n",
       "      <td>0.000000</td>\n",
       "      <td>...</td>\n",
       "      <td>0.000000</td>\n",
       "      <td>0.0</td>\n",
       "      <td>0.033333</td>\n",
       "      <td>0.0</td>\n",
       "      <td>0.00</td>\n",
       "      <td>0.00</td>\n",
       "      <td>0.100000</td>\n",
       "      <td>0.0</td>\n",
       "      <td>-0.333333</td>\n",
       "      <td>0.000000</td>\n",
       "    </tr>\n",
       "    <tr>\n",
       "      <th>T_subjectivity</th>\n",
       "      <td>0.000000</td>\n",
       "      <td>0.0</td>\n",
       "      <td>0.40</td>\n",
       "      <td>0.000000</td>\n",
       "      <td>0.0</td>\n",
       "      <td>0.8750</td>\n",
       "      <td>0.0000</td>\n",
       "      <td>0.000000</td>\n",
       "      <td>0.000000</td>\n",
       "      <td>0.000000</td>\n",
       "      <td>...</td>\n",
       "      <td>0.000000</td>\n",
       "      <td>0.0</td>\n",
       "      <td>0.066667</td>\n",
       "      <td>0.0</td>\n",
       "      <td>0.00</td>\n",
       "      <td>0.00</td>\n",
       "      <td>0.533333</td>\n",
       "      <td>0.0</td>\n",
       "      <td>0.666667</td>\n",
       "      <td>0.000000</td>\n",
       "    </tr>\n",
       "    <tr>\n",
       "      <th>D_polarity</th>\n",
       "      <td>0.068182</td>\n",
       "      <td>-0.1</td>\n",
       "      <td>0.05</td>\n",
       "      <td>-0.089286</td>\n",
       "      <td>0.0</td>\n",
       "      <td>0.4375</td>\n",
       "      <td>0.4125</td>\n",
       "      <td>-0.005208</td>\n",
       "      <td>0.227273</td>\n",
       "      <td>-0.022222</td>\n",
       "      <td>...</td>\n",
       "      <td>0.000000</td>\n",
       "      <td>0.0</td>\n",
       "      <td>0.116667</td>\n",
       "      <td>1.0</td>\n",
       "      <td>0.00</td>\n",
       "      <td>-0.35</td>\n",
       "      <td>0.000000</td>\n",
       "      <td>0.0</td>\n",
       "      <td>-0.050000</td>\n",
       "      <td>0.000000</td>\n",
       "    </tr>\n",
       "    <tr>\n",
       "      <th>D_subjectivity</th>\n",
       "      <td>0.227273</td>\n",
       "      <td>0.1</td>\n",
       "      <td>0.70</td>\n",
       "      <td>0.205357</td>\n",
       "      <td>0.0</td>\n",
       "      <td>0.6875</td>\n",
       "      <td>0.5900</td>\n",
       "      <td>0.310417</td>\n",
       "      <td>0.315909</td>\n",
       "      <td>0.455556</td>\n",
       "      <td>...</td>\n",
       "      <td>0.144444</td>\n",
       "      <td>0.0</td>\n",
       "      <td>0.133333</td>\n",
       "      <td>1.0</td>\n",
       "      <td>0.75</td>\n",
       "      <td>0.45</td>\n",
       "      <td>0.000000</td>\n",
       "      <td>0.0</td>\n",
       "      <td>0.400000</td>\n",
       "      <td>0.066667</td>\n",
       "    </tr>\n",
       "  </tbody>\n",
       "</table>\n",
       "<p>4 rows × 90 columns</p>\n",
       "</div>"
      ],
      "text/plain": [
       "                      0    1     2         3    4       5       6         7   \\\n",
       "T_polarity      0.000000  0.0  0.10  0.000000  0.0  0.3750  0.0000  0.000000   \n",
       "T_subjectivity  0.000000  0.0  0.40  0.000000  0.0  0.8750  0.0000  0.000000   \n",
       "D_polarity      0.068182 -0.1  0.05 -0.089286  0.0  0.4375  0.4125 -0.005208   \n",
       "D_subjectivity  0.227273  0.1  0.70  0.205357  0.0  0.6875  0.5900  0.310417   \n",
       "\n",
       "                      8         9     ...           80   81        82   83  \\\n",
       "T_polarity      0.000000  0.000000    ...     0.000000  0.0  0.033333  0.0   \n",
       "T_subjectivity  0.000000  0.000000    ...     0.000000  0.0  0.066667  0.0   \n",
       "D_polarity      0.227273 -0.022222    ...     0.000000  0.0  0.116667  1.0   \n",
       "D_subjectivity  0.315909  0.455556    ...     0.144444  0.0  0.133333  1.0   \n",
       "\n",
       "                  84    85        86   87        88        89  \n",
       "T_polarity      0.00  0.00  0.100000  0.0 -0.333333  0.000000  \n",
       "T_subjectivity  0.00  0.00  0.533333  0.0  0.666667  0.000000  \n",
       "D_polarity      0.00 -0.35  0.000000  0.0 -0.050000  0.000000  \n",
       "D_subjectivity  0.75  0.45  0.000000  0.0  0.400000  0.066667  \n",
       "\n",
       "[4 rows x 90 columns]"
      ]
     },
     "execution_count": 25,
     "metadata": {},
     "output_type": "execute_result"
    }
   ],
   "source": [
    "total_score = [list_polarity_title, list_subjectivity_title, list_polarity_description, list_subjectivity_description]\n",
    "labels = ['T_polarity', 'T_subjectivity', 'D_polarity', 'D_subjectivity']\n",
    "df = pd.DataFrame.from_records(total_score, index = labels)\n",
    "df"
   ]
  },
  {
   "cell_type": "markdown",
   "metadata": {},
   "source": [
    "**We transpose the dataframe to make it compatible with the .plot() method.**"
   ]
  },
  {
   "cell_type": "code",
   "execution_count": 26,
   "metadata": {
    "collapsed": false,
    "scrolled": true
   },
   "outputs": [
    {
     "data": {
      "text/html": [
       "<div>\n",
       "<table border=\"1\" class=\"dataframe\">\n",
       "  <thead>\n",
       "    <tr style=\"text-align: right;\">\n",
       "      <th></th>\n",
       "      <th>T_polarity</th>\n",
       "      <th>T_subjectivity</th>\n",
       "      <th>D_polarity</th>\n",
       "      <th>D_subjectivity</th>\n",
       "    </tr>\n",
       "  </thead>\n",
       "  <tbody>\n",
       "    <tr>\n",
       "      <th>0</th>\n",
       "      <td>0.000000</td>\n",
       "      <td>0.000000</td>\n",
       "      <td>0.068182</td>\n",
       "      <td>0.227273</td>\n",
       "    </tr>\n",
       "    <tr>\n",
       "      <th>1</th>\n",
       "      <td>0.000000</td>\n",
       "      <td>0.000000</td>\n",
       "      <td>-0.100000</td>\n",
       "      <td>0.100000</td>\n",
       "    </tr>\n",
       "    <tr>\n",
       "      <th>2</th>\n",
       "      <td>0.100000</td>\n",
       "      <td>0.400000</td>\n",
       "      <td>0.050000</td>\n",
       "      <td>0.700000</td>\n",
       "    </tr>\n",
       "    <tr>\n",
       "      <th>3</th>\n",
       "      <td>0.000000</td>\n",
       "      <td>0.000000</td>\n",
       "      <td>-0.089286</td>\n",
       "      <td>0.205357</td>\n",
       "    </tr>\n",
       "    <tr>\n",
       "      <th>4</th>\n",
       "      <td>0.000000</td>\n",
       "      <td>0.000000</td>\n",
       "      <td>0.000000</td>\n",
       "      <td>0.000000</td>\n",
       "    </tr>\n",
       "    <tr>\n",
       "      <th>5</th>\n",
       "      <td>0.375000</td>\n",
       "      <td>0.875000</td>\n",
       "      <td>0.437500</td>\n",
       "      <td>0.687500</td>\n",
       "    </tr>\n",
       "    <tr>\n",
       "      <th>6</th>\n",
       "      <td>0.000000</td>\n",
       "      <td>0.000000</td>\n",
       "      <td>0.412500</td>\n",
       "      <td>0.590000</td>\n",
       "    </tr>\n",
       "    <tr>\n",
       "      <th>7</th>\n",
       "      <td>0.000000</td>\n",
       "      <td>0.000000</td>\n",
       "      <td>-0.005208</td>\n",
       "      <td>0.310417</td>\n",
       "    </tr>\n",
       "    <tr>\n",
       "      <th>8</th>\n",
       "      <td>0.000000</td>\n",
       "      <td>0.000000</td>\n",
       "      <td>0.227273</td>\n",
       "      <td>0.315909</td>\n",
       "    </tr>\n",
       "    <tr>\n",
       "      <th>9</th>\n",
       "      <td>0.000000</td>\n",
       "      <td>0.000000</td>\n",
       "      <td>-0.022222</td>\n",
       "      <td>0.455556</td>\n",
       "    </tr>\n",
       "    <tr>\n",
       "      <th>10</th>\n",
       "      <td>0.000000</td>\n",
       "      <td>0.000000</td>\n",
       "      <td>-0.150000</td>\n",
       "      <td>0.250000</td>\n",
       "    </tr>\n",
       "    <tr>\n",
       "      <th>11</th>\n",
       "      <td>0.136364</td>\n",
       "      <td>0.454545</td>\n",
       "      <td>0.000000</td>\n",
       "      <td>0.500000</td>\n",
       "    </tr>\n",
       "    <tr>\n",
       "      <th>12</th>\n",
       "      <td>0.000000</td>\n",
       "      <td>0.000000</td>\n",
       "      <td>0.250000</td>\n",
       "      <td>0.250000</td>\n",
       "    </tr>\n",
       "    <tr>\n",
       "      <th>13</th>\n",
       "      <td>0.100000</td>\n",
       "      <td>0.150000</td>\n",
       "      <td>0.250000</td>\n",
       "      <td>0.650000</td>\n",
       "    </tr>\n",
       "    <tr>\n",
       "      <th>14</th>\n",
       "      <td>0.000000</td>\n",
       "      <td>0.000000</td>\n",
       "      <td>0.000000</td>\n",
       "      <td>0.000000</td>\n",
       "    </tr>\n",
       "    <tr>\n",
       "      <th>15</th>\n",
       "      <td>0.000000</td>\n",
       "      <td>0.000000</td>\n",
       "      <td>0.000000</td>\n",
       "      <td>0.000000</td>\n",
       "    </tr>\n",
       "    <tr>\n",
       "      <th>16</th>\n",
       "      <td>0.000000</td>\n",
       "      <td>0.000000</td>\n",
       "      <td>0.311111</td>\n",
       "      <td>0.694444</td>\n",
       "    </tr>\n",
       "    <tr>\n",
       "      <th>17</th>\n",
       "      <td>0.000000</td>\n",
       "      <td>0.000000</td>\n",
       "      <td>0.000000</td>\n",
       "      <td>0.000000</td>\n",
       "    </tr>\n",
       "    <tr>\n",
       "      <th>18</th>\n",
       "      <td>0.000000</td>\n",
       "      <td>0.000000</td>\n",
       "      <td>0.125000</td>\n",
       "      <td>0.166667</td>\n",
       "    </tr>\n",
       "    <tr>\n",
       "      <th>19</th>\n",
       "      <td>0.000000</td>\n",
       "      <td>0.000000</td>\n",
       "      <td>-0.100000</td>\n",
       "      <td>0.100000</td>\n",
       "    </tr>\n",
       "    <tr>\n",
       "      <th>20</th>\n",
       "      <td>0.000000</td>\n",
       "      <td>0.000000</td>\n",
       "      <td>-0.500000</td>\n",
       "      <td>0.466667</td>\n",
       "    </tr>\n",
       "    <tr>\n",
       "      <th>21</th>\n",
       "      <td>0.000000</td>\n",
       "      <td>0.000000</td>\n",
       "      <td>0.133333</td>\n",
       "      <td>0.500000</td>\n",
       "    </tr>\n",
       "    <tr>\n",
       "      <th>22</th>\n",
       "      <td>0.166667</td>\n",
       "      <td>0.250000</td>\n",
       "      <td>0.118667</td>\n",
       "      <td>0.528000</td>\n",
       "    </tr>\n",
       "    <tr>\n",
       "      <th>23</th>\n",
       "      <td>0.800000</td>\n",
       "      <td>0.900000</td>\n",
       "      <td>0.283333</td>\n",
       "      <td>0.283333</td>\n",
       "    </tr>\n",
       "    <tr>\n",
       "      <th>24</th>\n",
       "      <td>0.136364</td>\n",
       "      <td>0.500000</td>\n",
       "      <td>0.000000</td>\n",
       "      <td>0.000000</td>\n",
       "    </tr>\n",
       "    <tr>\n",
       "      <th>25</th>\n",
       "      <td>-1.000000</td>\n",
       "      <td>1.000000</td>\n",
       "      <td>0.050000</td>\n",
       "      <td>0.533333</td>\n",
       "    </tr>\n",
       "    <tr>\n",
       "      <th>26</th>\n",
       "      <td>-0.200000</td>\n",
       "      <td>0.000000</td>\n",
       "      <td>0.000000</td>\n",
       "      <td>0.000000</td>\n",
       "    </tr>\n",
       "    <tr>\n",
       "      <th>27</th>\n",
       "      <td>0.000000</td>\n",
       "      <td>0.000000</td>\n",
       "      <td>0.000000</td>\n",
       "      <td>0.000000</td>\n",
       "    </tr>\n",
       "    <tr>\n",
       "      <th>28</th>\n",
       "      <td>0.000000</td>\n",
       "      <td>0.300000</td>\n",
       "      <td>0.062500</td>\n",
       "      <td>0.319444</td>\n",
       "    </tr>\n",
       "    <tr>\n",
       "      <th>29</th>\n",
       "      <td>0.800000</td>\n",
       "      <td>0.400000</td>\n",
       "      <td>0.050000</td>\n",
       "      <td>0.200000</td>\n",
       "    </tr>\n",
       "    <tr>\n",
       "      <th>...</th>\n",
       "      <td>...</td>\n",
       "      <td>...</td>\n",
       "      <td>...</td>\n",
       "      <td>...</td>\n",
       "    </tr>\n",
       "    <tr>\n",
       "      <th>60</th>\n",
       "      <td>-0.150000</td>\n",
       "      <td>0.800000</td>\n",
       "      <td>0.000000</td>\n",
       "      <td>0.000000</td>\n",
       "    </tr>\n",
       "    <tr>\n",
       "      <th>61</th>\n",
       "      <td>0.068182</td>\n",
       "      <td>0.227273</td>\n",
       "      <td>0.000000</td>\n",
       "      <td>0.000000</td>\n",
       "    </tr>\n",
       "    <tr>\n",
       "      <th>62</th>\n",
       "      <td>0.000000</td>\n",
       "      <td>0.000000</td>\n",
       "      <td>0.000000</td>\n",
       "      <td>0.000000</td>\n",
       "    </tr>\n",
       "    <tr>\n",
       "      <th>63</th>\n",
       "      <td>0.000000</td>\n",
       "      <td>0.800000</td>\n",
       "      <td>0.000000</td>\n",
       "      <td>0.000000</td>\n",
       "    </tr>\n",
       "    <tr>\n",
       "      <th>64</th>\n",
       "      <td>-0.388889</td>\n",
       "      <td>0.833333</td>\n",
       "      <td>0.000000</td>\n",
       "      <td>0.000000</td>\n",
       "    </tr>\n",
       "    <tr>\n",
       "      <th>65</th>\n",
       "      <td>0.150000</td>\n",
       "      <td>0.500000</td>\n",
       "      <td>0.000000</td>\n",
       "      <td>0.000000</td>\n",
       "    </tr>\n",
       "    <tr>\n",
       "      <th>66</th>\n",
       "      <td>0.000000</td>\n",
       "      <td>0.000000</td>\n",
       "      <td>0.000000</td>\n",
       "      <td>0.000000</td>\n",
       "    </tr>\n",
       "    <tr>\n",
       "      <th>67</th>\n",
       "      <td>0.000000</td>\n",
       "      <td>0.000000</td>\n",
       "      <td>0.000000</td>\n",
       "      <td>0.000000</td>\n",
       "    </tr>\n",
       "    <tr>\n",
       "      <th>68</th>\n",
       "      <td>0.250000</td>\n",
       "      <td>0.500000</td>\n",
       "      <td>0.000000</td>\n",
       "      <td>0.000000</td>\n",
       "    </tr>\n",
       "    <tr>\n",
       "      <th>69</th>\n",
       "      <td>0.000000</td>\n",
       "      <td>0.000000</td>\n",
       "      <td>0.000000</td>\n",
       "      <td>0.000000</td>\n",
       "    </tr>\n",
       "    <tr>\n",
       "      <th>70</th>\n",
       "      <td>0.200000</td>\n",
       "      <td>0.400000</td>\n",
       "      <td>-0.200000</td>\n",
       "      <td>0.600000</td>\n",
       "    </tr>\n",
       "    <tr>\n",
       "      <th>71</th>\n",
       "      <td>-0.150000</td>\n",
       "      <td>0.225000</td>\n",
       "      <td>0.104167</td>\n",
       "      <td>0.311111</td>\n",
       "    </tr>\n",
       "    <tr>\n",
       "      <th>72</th>\n",
       "      <td>0.000000</td>\n",
       "      <td>0.000000</td>\n",
       "      <td>0.000000</td>\n",
       "      <td>0.000000</td>\n",
       "    </tr>\n",
       "    <tr>\n",
       "      <th>73</th>\n",
       "      <td>0.000000</td>\n",
       "      <td>0.000000</td>\n",
       "      <td>0.000000</td>\n",
       "      <td>0.000000</td>\n",
       "    </tr>\n",
       "    <tr>\n",
       "      <th>74</th>\n",
       "      <td>0.000000</td>\n",
       "      <td>0.000000</td>\n",
       "      <td>0.375000</td>\n",
       "      <td>0.500000</td>\n",
       "    </tr>\n",
       "    <tr>\n",
       "      <th>75</th>\n",
       "      <td>0.300000</td>\n",
       "      <td>0.650000</td>\n",
       "      <td>-0.093750</td>\n",
       "      <td>0.250000</td>\n",
       "    </tr>\n",
       "    <tr>\n",
       "      <th>76</th>\n",
       "      <td>0.000000</td>\n",
       "      <td>0.000000</td>\n",
       "      <td>0.400000</td>\n",
       "      <td>0.400000</td>\n",
       "    </tr>\n",
       "    <tr>\n",
       "      <th>77</th>\n",
       "      <td>-0.100000</td>\n",
       "      <td>0.200000</td>\n",
       "      <td>-0.006397</td>\n",
       "      <td>0.247811</td>\n",
       "    </tr>\n",
       "    <tr>\n",
       "      <th>78</th>\n",
       "      <td>0.500000</td>\n",
       "      <td>0.900000</td>\n",
       "      <td>0.168182</td>\n",
       "      <td>0.327273</td>\n",
       "    </tr>\n",
       "    <tr>\n",
       "      <th>79</th>\n",
       "      <td>0.000000</td>\n",
       "      <td>0.000000</td>\n",
       "      <td>0.166667</td>\n",
       "      <td>0.166667</td>\n",
       "    </tr>\n",
       "    <tr>\n",
       "      <th>80</th>\n",
       "      <td>0.000000</td>\n",
       "      <td>0.000000</td>\n",
       "      <td>0.000000</td>\n",
       "      <td>0.144444</td>\n",
       "    </tr>\n",
       "    <tr>\n",
       "      <th>81</th>\n",
       "      <td>0.000000</td>\n",
       "      <td>0.000000</td>\n",
       "      <td>0.000000</td>\n",
       "      <td>0.000000</td>\n",
       "    </tr>\n",
       "    <tr>\n",
       "      <th>82</th>\n",
       "      <td>0.033333</td>\n",
       "      <td>0.066667</td>\n",
       "      <td>0.116667</td>\n",
       "      <td>0.133333</td>\n",
       "    </tr>\n",
       "    <tr>\n",
       "      <th>83</th>\n",
       "      <td>0.000000</td>\n",
       "      <td>0.000000</td>\n",
       "      <td>1.000000</td>\n",
       "      <td>1.000000</td>\n",
       "    </tr>\n",
       "    <tr>\n",
       "      <th>84</th>\n",
       "      <td>0.000000</td>\n",
       "      <td>0.000000</td>\n",
       "      <td>0.000000</td>\n",
       "      <td>0.750000</td>\n",
       "    </tr>\n",
       "    <tr>\n",
       "      <th>85</th>\n",
       "      <td>0.000000</td>\n",
       "      <td>0.000000</td>\n",
       "      <td>-0.350000</td>\n",
       "      <td>0.450000</td>\n",
       "    </tr>\n",
       "    <tr>\n",
       "      <th>86</th>\n",
       "      <td>0.100000</td>\n",
       "      <td>0.533333</td>\n",
       "      <td>0.000000</td>\n",
       "      <td>0.000000</td>\n",
       "    </tr>\n",
       "    <tr>\n",
       "      <th>87</th>\n",
       "      <td>0.000000</td>\n",
       "      <td>0.000000</td>\n",
       "      <td>0.000000</td>\n",
       "      <td>0.000000</td>\n",
       "    </tr>\n",
       "    <tr>\n",
       "      <th>88</th>\n",
       "      <td>-0.333333</td>\n",
       "      <td>0.666667</td>\n",
       "      <td>-0.050000</td>\n",
       "      <td>0.400000</td>\n",
       "    </tr>\n",
       "    <tr>\n",
       "      <th>89</th>\n",
       "      <td>0.000000</td>\n",
       "      <td>0.000000</td>\n",
       "      <td>0.000000</td>\n",
       "      <td>0.066667</td>\n",
       "    </tr>\n",
       "  </tbody>\n",
       "</table>\n",
       "<p>90 rows × 4 columns</p>\n",
       "</div>"
      ],
      "text/plain": [
       "    T_polarity  T_subjectivity  D_polarity  D_subjectivity\n",
       "0     0.000000        0.000000    0.068182        0.227273\n",
       "1     0.000000        0.000000   -0.100000        0.100000\n",
       "2     0.100000        0.400000    0.050000        0.700000\n",
       "3     0.000000        0.000000   -0.089286        0.205357\n",
       "4     0.000000        0.000000    0.000000        0.000000\n",
       "5     0.375000        0.875000    0.437500        0.687500\n",
       "6     0.000000        0.000000    0.412500        0.590000\n",
       "7     0.000000        0.000000   -0.005208        0.310417\n",
       "8     0.000000        0.000000    0.227273        0.315909\n",
       "9     0.000000        0.000000   -0.022222        0.455556\n",
       "10    0.000000        0.000000   -0.150000        0.250000\n",
       "11    0.136364        0.454545    0.000000        0.500000\n",
       "12    0.000000        0.000000    0.250000        0.250000\n",
       "13    0.100000        0.150000    0.250000        0.650000\n",
       "14    0.000000        0.000000    0.000000        0.000000\n",
       "15    0.000000        0.000000    0.000000        0.000000\n",
       "16    0.000000        0.000000    0.311111        0.694444\n",
       "17    0.000000        0.000000    0.000000        0.000000\n",
       "18    0.000000        0.000000    0.125000        0.166667\n",
       "19    0.000000        0.000000   -0.100000        0.100000\n",
       "20    0.000000        0.000000   -0.500000        0.466667\n",
       "21    0.000000        0.000000    0.133333        0.500000\n",
       "22    0.166667        0.250000    0.118667        0.528000\n",
       "23    0.800000        0.900000    0.283333        0.283333\n",
       "24    0.136364        0.500000    0.000000        0.000000\n",
       "25   -1.000000        1.000000    0.050000        0.533333\n",
       "26   -0.200000        0.000000    0.000000        0.000000\n",
       "27    0.000000        0.000000    0.000000        0.000000\n",
       "28    0.000000        0.300000    0.062500        0.319444\n",
       "29    0.800000        0.400000    0.050000        0.200000\n",
       "..         ...             ...         ...             ...\n",
       "60   -0.150000        0.800000    0.000000        0.000000\n",
       "61    0.068182        0.227273    0.000000        0.000000\n",
       "62    0.000000        0.000000    0.000000        0.000000\n",
       "63    0.000000        0.800000    0.000000        0.000000\n",
       "64   -0.388889        0.833333    0.000000        0.000000\n",
       "65    0.150000        0.500000    0.000000        0.000000\n",
       "66    0.000000        0.000000    0.000000        0.000000\n",
       "67    0.000000        0.000000    0.000000        0.000000\n",
       "68    0.250000        0.500000    0.000000        0.000000\n",
       "69    0.000000        0.000000    0.000000        0.000000\n",
       "70    0.200000        0.400000   -0.200000        0.600000\n",
       "71   -0.150000        0.225000    0.104167        0.311111\n",
       "72    0.000000        0.000000    0.000000        0.000000\n",
       "73    0.000000        0.000000    0.000000        0.000000\n",
       "74    0.000000        0.000000    0.375000        0.500000\n",
       "75    0.300000        0.650000   -0.093750        0.250000\n",
       "76    0.000000        0.000000    0.400000        0.400000\n",
       "77   -0.100000        0.200000   -0.006397        0.247811\n",
       "78    0.500000        0.900000    0.168182        0.327273\n",
       "79    0.000000        0.000000    0.166667        0.166667\n",
       "80    0.000000        0.000000    0.000000        0.144444\n",
       "81    0.000000        0.000000    0.000000        0.000000\n",
       "82    0.033333        0.066667    0.116667        0.133333\n",
       "83    0.000000        0.000000    1.000000        1.000000\n",
       "84    0.000000        0.000000    0.000000        0.750000\n",
       "85    0.000000        0.000000   -0.350000        0.450000\n",
       "86    0.100000        0.533333    0.000000        0.000000\n",
       "87    0.000000        0.000000    0.000000        0.000000\n",
       "88   -0.333333        0.666667   -0.050000        0.400000\n",
       "89    0.000000        0.000000    0.000000        0.066667\n",
       "\n",
       "[90 rows x 4 columns]"
      ]
     },
     "execution_count": 26,
     "metadata": {},
     "output_type": "execute_result"
    }
   ],
   "source": [
    "df = df.transpose() \n",
    "df"
   ]
  },
  {
   "cell_type": "code",
   "execution_count": 27,
   "metadata": {
    "collapsed": false
   },
   "outputs": [
    {
     "data": {
      "text/plain": [
       "<matplotlib.axes._subplots.AxesSubplot at 0x11fbb5898>"
      ]
     },
     "execution_count": 27,
     "metadata": {},
     "output_type": "execute_result"
    },
    {
     "data": {
      "image/png": "[encoded data removed]",
      "text/plain": [
       "<matplotlib.figure.Figure at 0x11fbb72b0>"
      ]
     },
     "metadata": {},
     "output_type": "display_data"
    }
   ],
   "source": [
    "# this plot shows scores for all 100 news posts.\n",
    "df.plot()"
   ]
  },
  {
   "cell_type": "markdown",
   "metadata": {},
   "source": [
    "## -Analysis by news press\n",
    "**Apparently, the 100 news posts standing alone aren't of much information. For a better perspective, we need to group scores by the press they belong to, under the assumption that posts from the same press are much more likely to embed a uniform tone. We create a list names <font color='green'>new_T_polarity</font> to store the sum of polarity scores of news titles for each press. The we do the same operation on subjectivity scores.**"
   ]
  },
  {
   "cell_type": "code",
   "execution_count": 28,
   "metadata": {
    "collapsed": false
   },
   "outputs": [
    {
     "data": {
      "text/plain": [
       "[0.47499999999999998,\n",
       " 0.23636363636363636,\n",
       " 0.70303030303030312,\n",
       " 0.41688311688311686,\n",
       " 0.44166666666666665,\n",
       " -0.79310064935064928,\n",
       " -0.070707070707070718,\n",
       " 0.75,\n",
       " -0.20000000000000001]"
      ]
     },
     "execution_count": 28,
     "metadata": {},
     "output_type": "execute_result"
    }
   ],
   "source": [
    "c_T_polarity = df['T_polarity']\n",
    "new_T_polarity = []\n",
    "B = 0\n",
    "C = 0\n",
    "while B < n_rows:\n",
    "    sum = 0\n",
    "    while C < B + 10:\n",
    "        sum += c_T_polarity[C]\n",
    "        C += 1\n",
    "    new_T_polarity.append(sum)\n",
    "    B += 10\n",
    "new_T_polarity\n",
    "# The press are in the order as: wsj, cnn, nyt, wsp, bbc, abc, google, ft, bloomberg and economist."
   ]
  },
  {
   "cell_type": "code",
   "execution_count": 29,
   "metadata": {
    "collapsed": false
   },
   "outputs": [
    {
     "data": {
      "text/plain": [
       "[1.2749999999999999,\n",
       " 0.6045454545454545,\n",
       " 3.3499999999999996,\n",
       " 2.5872294372294373,\n",
       " 2.3333333333333335,\n",
       " 3.2883928571428571,\n",
       " 3.6606060606060606,\n",
       " 2.375,\n",
       " 1.2666666666666666]"
      ]
     },
     "execution_count": 29,
     "metadata": {},
     "output_type": "execute_result"
    }
   ],
   "source": [
    "c_T_subjectivity = df['T_subjectivity']\n",
    "new_T_subjectivity = []\n",
    "D = 0\n",
    "E = 0\n",
    "while D < n_rows:\n",
    "    sum = 0\n",
    "    while E < D + 10:\n",
    "        sum += c_T_subjectivity[E]\n",
    "        E += 1\n",
    "    new_T_subjectivity.append(sum)\n",
    "    D += 10\n",
    "new_T_subjectivity"
   ]
  },
  {
   "cell_type": "code",
   "execution_count": 30,
   "metadata": {
    "collapsed": false
   },
   "outputs": [
    {
     "data": {
      "text/plain": [
       "[0.97873827561327553,\n",
       " 0.68611111111111112,\n",
       " 0.19783333333333331,\n",
       " 1.2541666666666667,\n",
       " 1.4098484848484847,\n",
       " -0.11006493506493509,\n",
       " 0.0,\n",
       " 0.91386784511784513,\n",
       " 0.71666666666666667]"
      ]
     },
     "execution_count": 30,
     "metadata": {},
     "output_type": "execute_result"
    }
   ],
   "source": [
    "c_D_polarity = df['D_polarity']\n",
    "new_D_polarity = []\n",
    "F = 0\n",
    "G = 0\n",
    "while F < n_rows:\n",
    "    sum = 0\n",
    "    while G < F + 10:\n",
    "        sum += c_D_polarity[G]\n",
    "        G += 1\n",
    "    new_D_polarity.append(sum)\n",
    "    F += 10\n",
    "new_D_polarity"
   ]
  },
  {
   "cell_type": "code",
   "execution_count": 31,
   "metadata": {
    "collapsed": false
   },
   "outputs": [
    {
     "data": {
      "text/plain": [
       "[3.5920111832611838,\n",
       " 2.6111111111111112,\n",
       " 2.8307777777777776,\n",
       " 4.125,\n",
       " 3.9911616161616159,\n",
       " 1.8071428571428572,\n",
       " 0.0,\n",
       " 2.8028619528619525,\n",
       " 2.9444444444444446]"
      ]
     },
     "execution_count": 31,
     "metadata": {},
     "output_type": "execute_result"
    }
   ],
   "source": [
    "c_D_subjectivity = df['D_subjectivity']\n",
    "new_D_subjectivity = []\n",
    "H = 0\n",
    "I = 0\n",
    "while H < n_rows:\n",
    "    sum = 0\n",
    "    while I < H + 10:\n",
    "        sum += c_D_subjectivity[I]\n",
    "        I += 1\n",
    "    new_D_subjectivity.append(sum)\n",
    "    H += 10\n",
    "new_D_subjectivity"
   ]
  },
  {
   "cell_type": "code",
   "execution_count": 32,
   "metadata": {
    "collapsed": false
   },
   "outputs": [
    {
     "data": {
      "text/html": [
       "<div>\n",
       "<table border=\"1\" class=\"dataframe\">\n",
       "  <thead>\n",
       "    <tr style=\"text-align: right;\">\n",
       "      <th></th>\n",
       "      <th>0</th>\n",
       "      <th>1</th>\n",
       "      <th>2</th>\n",
       "      <th>3</th>\n",
       "      <th>4</th>\n",
       "      <th>5</th>\n",
       "      <th>6</th>\n",
       "      <th>7</th>\n",
       "      <th>8</th>\n",
       "    </tr>\n",
       "  </thead>\n",
       "  <tbody>\n",
       "    <tr>\n",
       "      <th>T_polarity</th>\n",
       "      <td>0.475000</td>\n",
       "      <td>0.236364</td>\n",
       "      <td>0.703030</td>\n",
       "      <td>0.416883</td>\n",
       "      <td>0.441667</td>\n",
       "      <td>-0.793101</td>\n",
       "      <td>-0.070707</td>\n",
       "      <td>0.750000</td>\n",
       "      <td>-0.200000</td>\n",
       "    </tr>\n",
       "    <tr>\n",
       "      <th>T_subjectivity</th>\n",
       "      <td>1.275000</td>\n",
       "      <td>0.604545</td>\n",
       "      <td>3.350000</td>\n",
       "      <td>2.587229</td>\n",
       "      <td>2.333333</td>\n",
       "      <td>3.288393</td>\n",
       "      <td>3.660606</td>\n",
       "      <td>2.375000</td>\n",
       "      <td>1.266667</td>\n",
       "    </tr>\n",
       "    <tr>\n",
       "      <th>D_polarity</th>\n",
       "      <td>0.978738</td>\n",
       "      <td>0.686111</td>\n",
       "      <td>0.197833</td>\n",
       "      <td>1.254167</td>\n",
       "      <td>1.409848</td>\n",
       "      <td>-0.110065</td>\n",
       "      <td>0.000000</td>\n",
       "      <td>0.913868</td>\n",
       "      <td>0.716667</td>\n",
       "    </tr>\n",
       "    <tr>\n",
       "      <th>D_subjectivity</th>\n",
       "      <td>3.592011</td>\n",
       "      <td>2.611111</td>\n",
       "      <td>2.830778</td>\n",
       "      <td>4.125000</td>\n",
       "      <td>3.991162</td>\n",
       "      <td>1.807143</td>\n",
       "      <td>0.000000</td>\n",
       "      <td>2.802862</td>\n",
       "      <td>2.944444</td>\n",
       "    </tr>\n",
       "  </tbody>\n",
       "</table>\n",
       "</div>"
      ],
      "text/plain": [
       "                       0         1         2         3         4         5  \\\n",
       "T_polarity      0.475000  0.236364  0.703030  0.416883  0.441667 -0.793101   \n",
       "T_subjectivity  1.275000  0.604545  3.350000  2.587229  2.333333  3.288393   \n",
       "D_polarity      0.978738  0.686111  0.197833  1.254167  1.409848 -0.110065   \n",
       "D_subjectivity  3.592011  2.611111  2.830778  4.125000  3.991162  1.807143   \n",
       "\n",
       "                       6         7         8  \n",
       "T_polarity     -0.070707  0.750000 -0.200000  \n",
       "T_subjectivity  3.660606  2.375000  1.266667  \n",
       "D_polarity      0.000000  0.913868  0.716667  \n",
       "D_subjectivity  0.000000  2.802862  2.944444  "
      ]
     },
     "execution_count": 32,
     "metadata": {},
     "output_type": "execute_result"
    }
   ],
   "source": [
    "total_score_bypublishhouse = [new_T_polarity, new_T_subjectivity, new_D_polarity, new_D_subjectivity]\n",
    "df1 = pd.DataFrame.from_records(total_score_bypublishhouse, index = labels)\n",
    "df1"
   ]
  },
  {
   "cell_type": "code",
   "execution_count": 33,
   "metadata": {
    "collapsed": false
   },
   "outputs": [
    {
     "data": {
      "text/html": [
       "<div>\n",
       "<table border=\"1\" class=\"dataframe\">\n",
       "  <thead>\n",
       "    <tr style=\"text-align: right;\">\n",
       "      <th></th>\n",
       "      <th>wsj</th>\n",
       "      <th>cnn</th>\n",
       "      <th>nyt</th>\n",
       "      <th>wsp</th>\n",
       "      <th>guardian</th>\n",
       "      <th>abc</th>\n",
       "      <th>ft</th>\n",
       "      <th>bloomberg</th>\n",
       "      <th>economist</th>\n",
       "    </tr>\n",
       "  </thead>\n",
       "  <tbody>\n",
       "    <tr>\n",
       "      <th>T_polarity</th>\n",
       "      <td>0.475000</td>\n",
       "      <td>0.236364</td>\n",
       "      <td>0.703030</td>\n",
       "      <td>0.416883</td>\n",
       "      <td>0.441667</td>\n",
       "      <td>-0.793101</td>\n",
       "      <td>-0.070707</td>\n",
       "      <td>0.750000</td>\n",
       "      <td>-0.200000</td>\n",
       "    </tr>\n",
       "    <tr>\n",
       "      <th>T_subjectivity</th>\n",
       "      <td>1.275000</td>\n",
       "      <td>0.604545</td>\n",
       "      <td>3.350000</td>\n",
       "      <td>2.587229</td>\n",
       "      <td>2.333333</td>\n",
       "      <td>3.288393</td>\n",
       "      <td>3.660606</td>\n",
       "      <td>2.375000</td>\n",
       "      <td>1.266667</td>\n",
       "    </tr>\n",
       "    <tr>\n",
       "      <th>D_polarity</th>\n",
       "      <td>0.978738</td>\n",
       "      <td>0.686111</td>\n",
       "      <td>0.197833</td>\n",
       "      <td>1.254167</td>\n",
       "      <td>1.409848</td>\n",
       "      <td>-0.110065</td>\n",
       "      <td>0.000000</td>\n",
       "      <td>0.913868</td>\n",
       "      <td>0.716667</td>\n",
       "    </tr>\n",
       "    <tr>\n",
       "      <th>D_subjectivity</th>\n",
       "      <td>3.592011</td>\n",
       "      <td>2.611111</td>\n",
       "      <td>2.830778</td>\n",
       "      <td>4.125000</td>\n",
       "      <td>3.991162</td>\n",
       "      <td>1.807143</td>\n",
       "      <td>0.000000</td>\n",
       "      <td>2.802862</td>\n",
       "      <td>2.944444</td>\n",
       "    </tr>\n",
       "  </tbody>\n",
       "</table>\n",
       "</div>"
      ],
      "text/plain": [
       "                     wsj       cnn       nyt       wsp  guardian       abc  \\\n",
       "T_polarity      0.475000  0.236364  0.703030  0.416883  0.441667 -0.793101   \n",
       "T_subjectivity  1.275000  0.604545  3.350000  2.587229  2.333333  3.288393   \n",
       "D_polarity      0.978738  0.686111  0.197833  1.254167  1.409848 -0.110065   \n",
       "D_subjectivity  3.592011  2.611111  2.830778  4.125000  3.991162  1.807143   \n",
       "\n",
       "                      ft  bloomberg  economist  \n",
       "T_polarity     -0.070707   0.750000  -0.200000  \n",
       "T_subjectivity  3.660606   2.375000   1.266667  \n",
       "D_polarity      0.000000   0.913868   0.716667  \n",
       "D_subjectivity  0.000000   2.802862   2.944444  "
      ]
     },
     "execution_count": 33,
     "metadata": {},
     "output_type": "execute_result"
    }
   ],
   "source": [
    "# change the column labels to press house.\n",
    "new_columns = ['wsj', 'cnn', 'nyt', 'wsp', 'guardian', 'abc', 'ft', 'bloomberg', 'economist']\n",
    "df1.columns = new_columns\n",
    "df1"
   ]
  },
  {
   "cell_type": "markdown",
   "metadata": {},
   "source": [
    "### Graph for scores by news press"
   ]
  },
  {
   "cell_type": "code",
   "execution_count": 34,
   "metadata": {
    "collapsed": false
   },
   "outputs": [
    {
     "data": {
      "text/plain": [
       "<matplotlib.legend.Legend at 0x11fb49c88>"
      ]
     },
     "execution_count": 34,
     "metadata": {},
     "output_type": "execute_result"
    },
    {
     "data": {
      "image/png": "[encoded data removed]",
      "text/plain": [
       "<matplotlib.figure.Figure at 0x11fb49898>"
      ]
     },
     "metadata": {},
     "output_type": "display_data"
    }
   ],
   "source": [
    "#colors = [(x/10.0, x/20.0, 0.75) for x in range(n_rows)]\n",
    "\n",
    "df1.plot(kind = 'bar', legend = True, figsize = (15, 2), colormap='Paired', grid = True)\n",
    "\n",
    "# place the legend above the subplot and use all the expended width.\n",
    "plt.legend(bbox_to_anchor=(0., 1.02, 1., .102), loc=3,\n",
    "           ncol=10, mode=\"expand\", borderaxespad=0.)"
   ]
  },
  {
   "cell_type": "code",
   "execution_count": 35,
   "metadata": {
    "collapsed": false
   },
   "outputs": [
    {
     "data": {
      "text/plain": [
       "<matplotlib.axes._subplots.AxesSubplot at 0x11fadc320>"
      ]
     },
     "execution_count": 35,
     "metadata": {},
     "output_type": "execute_result"
    },
    {
     "data": {
      "image/png": "[encoded data removed]",
      "text/plain": [
       "<matplotlib.figure.Figure at 0x11fb097b8>"
      ]
     },
     "metadata": {},
     "output_type": "display_data"
    }
   ],
   "source": [
    "bar_color = 'orange'\n",
    "\n",
    "row = df1.iloc[0]\n",
    "row.plot(kind = 'bar', title = \"Polarity for news titles by news press\", color = bar_color, grid = True)"
   ]
  },
  {
   "cell_type": "markdown",
   "metadata": {},
   "source": [
    "## -Analysis by date\n",
    "**We have loaded news titles and descriptions over 2 weeks and stored them in a csv file called all_news.csv. We then calculated an average news polarity score for each day. We then then graph news polarity score to see how it has changed over time.**"
   ]
  },
  {
   "cell_type": "code",
   "execution_count": 36,
   "metadata": {
    "collapsed": false
   },
   "outputs": [],
   "source": [
    "contents = csv.reader(open('all_news.csv','r', encoding = \"ISO-8859-1\"))\n",
    "result = csv.writer(open('entire_result.csv','w'))"
   ]
  },
  {
   "cell_type": "code",
   "execution_count": 37,
   "metadata": {
    "collapsed": false
   },
   "outputs": [],
   "source": [
    "#result.writerow(['Date','polarity'])   \n",
    "for row in contents:\n",
    "    comment = row[1]  \n",
    "    blob = TextBlob(comment)\n",
    "    polarity = blob.sentiment.polarity\n",
    "    line = [row[0],polarity]\n",
    "    result.writerow(line)   "
   ]
  },
  {
   "cell_type": "code",
   "execution_count": 42,
   "metadata": {
    "collapsed": false,
    "scrolled": false
   },
   "outputs": [
    {
     "data": {
      "text/html": [
       "<div>\n",
       "<table border=\"1\" class=\"dataframe\">\n",
       "  <thead>\n",
       "    <tr style=\"text-align: right;\">\n",
       "      <th></th>\n",
       "      <th>Date</th>\n",
       "      <th>polarity</th>\n",
       "    </tr>\n",
       "  </thead>\n",
       "  <tbody>\n",
       "    <tr>\n",
       "      <th>2214</th>\n",
       "      <td>5/13/17</td>\n",
       "      <td>0.0</td>\n",
       "    </tr>\n",
       "    <tr>\n",
       "      <th>2215</th>\n",
       "      <td>5/13/17</td>\n",
       "      <td>0.0</td>\n",
       "    </tr>\n",
       "    <tr>\n",
       "      <th>2216</th>\n",
       "      <td>5/13/17</td>\n",
       "      <td>0.3</td>\n",
       "    </tr>\n",
       "    <tr>\n",
       "      <th>2217</th>\n",
       "      <td>5/13/17</td>\n",
       "      <td>0.0</td>\n",
       "    </tr>\n",
       "    <tr>\n",
       "      <th>2218</th>\n",
       "      <td>5/13/17</td>\n",
       "      <td>0.0</td>\n",
       "    </tr>\n",
       "    <tr>\n",
       "      <th>2219</th>\n",
       "      <td>5/13/17</td>\n",
       "      <td>0.0</td>\n",
       "    </tr>\n",
       "    <tr>\n",
       "      <th>2220</th>\n",
       "      <td>5/13/17</td>\n",
       "      <td>0.0</td>\n",
       "    </tr>\n",
       "    <tr>\n",
       "      <th>2221</th>\n",
       "      <td>5/13/17</td>\n",
       "      <td>0.0</td>\n",
       "    </tr>\n",
       "    <tr>\n",
       "      <th>2222</th>\n",
       "      <td>5/13/17</td>\n",
       "      <td>0.0</td>\n",
       "    </tr>\n",
       "    <tr>\n",
       "      <th>2223</th>\n",
       "      <td>5/13/17</td>\n",
       "      <td>0.3</td>\n",
       "    </tr>\n",
       "  </tbody>\n",
       "</table>\n",
       "</div>"
      ],
      "text/plain": [
       "         Date  polarity\n",
       "2214  5/13/17       0.0\n",
       "2215  5/13/17       0.0\n",
       "2216  5/13/17       0.3\n",
       "2217  5/13/17       0.0\n",
       "2218  5/13/17       0.0\n",
       "2219  5/13/17       0.0\n",
       "2220  5/13/17       0.0\n",
       "2221  5/13/17       0.0\n",
       "2222  5/13/17       0.0\n",
       "2223  5/13/17       0.3"
      ]
     },
     "execution_count": 42,
     "metadata": {},
     "output_type": "execute_result"
    }
   ],
   "source": [
    "data = pd.read_csv('entire_result.csv')\n",
    "data=data.rename(columns = {'0.0':'polarity'})\n",
    "data.tail(10)"
   ]
  },
  {
   "cell_type": "code",
   "execution_count": 44,
   "metadata": {
    "collapsed": false
   },
   "outputs": [
    {
     "data": {
      "text/html": [
       "<div>\n",
       "<table border=\"1\" class=\"dataframe\">\n",
       "  <thead>\n",
       "    <tr style=\"text-align: right;\">\n",
       "      <th></th>\n",
       "      <th>Date</th>\n",
       "      <th>polarity</th>\n",
       "    </tr>\n",
       "  </thead>\n",
       "  <tbody>\n",
       "    <tr>\n",
       "      <th>0</th>\n",
       "      <td>2017-03-24</td>\n",
       "      <td>0.000000</td>\n",
       "    </tr>\n",
       "    <tr>\n",
       "      <th>10</th>\n",
       "      <td>2017-04-09</td>\n",
       "      <td>-0.141667</td>\n",
       "    </tr>\n",
       "    <tr>\n",
       "      <th>1</th>\n",
       "      <td>2017-04-11</td>\n",
       "      <td>-0.035714</td>\n",
       "    </tr>\n",
       "    <tr>\n",
       "      <th>2</th>\n",
       "      <td>2017-04-12</td>\n",
       "      <td>0.183333</td>\n",
       "    </tr>\n",
       "    <tr>\n",
       "      <th>3</th>\n",
       "      <td>2017-04-13</td>\n",
       "      <td>-0.006919</td>\n",
       "    </tr>\n",
       "    <tr>\n",
       "      <th>4</th>\n",
       "      <td>2017-04-14</td>\n",
       "      <td>0.066439</td>\n",
       "    </tr>\n",
       "    <tr>\n",
       "      <th>5</th>\n",
       "      <td>2017-04-15</td>\n",
       "      <td>0.000000</td>\n",
       "    </tr>\n",
       "    <tr>\n",
       "      <th>6</th>\n",
       "      <td>2017-04-27</td>\n",
       "      <td>0.211607</td>\n",
       "    </tr>\n",
       "    <tr>\n",
       "      <th>7</th>\n",
       "      <td>2017-04-28</td>\n",
       "      <td>0.025203</td>\n",
       "    </tr>\n",
       "    <tr>\n",
       "      <th>8</th>\n",
       "      <td>2017-04-29</td>\n",
       "      <td>-0.017475</td>\n",
       "    </tr>\n",
       "    <tr>\n",
       "      <th>9</th>\n",
       "      <td>2017-04-30</td>\n",
       "      <td>0.011311</td>\n",
       "    </tr>\n",
       "    <tr>\n",
       "      <th>11</th>\n",
       "      <td>2017-05-01</td>\n",
       "      <td>0.024575</td>\n",
       "    </tr>\n",
       "    <tr>\n",
       "      <th>16</th>\n",
       "      <td>2017-05-02</td>\n",
       "      <td>0.008835</td>\n",
       "    </tr>\n",
       "    <tr>\n",
       "      <th>17</th>\n",
       "      <td>2017-05-03</td>\n",
       "      <td>0.016569</td>\n",
       "    </tr>\n",
       "    <tr>\n",
       "      <th>18</th>\n",
       "      <td>2017-05-04</td>\n",
       "      <td>0.015248</td>\n",
       "    </tr>\n",
       "    <tr>\n",
       "      <th>19</th>\n",
       "      <td>2017-05-05</td>\n",
       "      <td>0.500000</td>\n",
       "    </tr>\n",
       "    <tr>\n",
       "      <th>20</th>\n",
       "      <td>2017-05-06</td>\n",
       "      <td>0.000000</td>\n",
       "    </tr>\n",
       "    <tr>\n",
       "      <th>21</th>\n",
       "      <td>2017-05-08</td>\n",
       "      <td>0.043231</td>\n",
       "    </tr>\n",
       "    <tr>\n",
       "      <th>22</th>\n",
       "      <td>2017-05-09</td>\n",
       "      <td>0.048206</td>\n",
       "    </tr>\n",
       "    <tr>\n",
       "      <th>12</th>\n",
       "      <td>2017-05-10</td>\n",
       "      <td>0.040892</td>\n",
       "    </tr>\n",
       "    <tr>\n",
       "      <th>13</th>\n",
       "      <td>2017-05-11</td>\n",
       "      <td>0.003931</td>\n",
       "    </tr>\n",
       "    <tr>\n",
       "      <th>14</th>\n",
       "      <td>2017-05-12</td>\n",
       "      <td>0.081359</td>\n",
       "    </tr>\n",
       "    <tr>\n",
       "      <th>15</th>\n",
       "      <td>2017-05-13</td>\n",
       "      <td>0.078377</td>\n",
       "    </tr>\n",
       "  </tbody>\n",
       "</table>\n",
       "</div>"
      ],
      "text/plain": [
       "         Date  polarity\n",
       "0  2017-03-24  0.000000\n",
       "10 2017-04-09 -0.141667\n",
       "1  2017-04-11 -0.035714\n",
       "2  2017-04-12  0.183333\n",
       "3  2017-04-13 -0.006919\n",
       "4  2017-04-14  0.066439\n",
       "5  2017-04-15  0.000000\n",
       "6  2017-04-27  0.211607\n",
       "7  2017-04-28  0.025203\n",
       "8  2017-04-29 -0.017475\n",
       "9  2017-04-30  0.011311\n",
       "11 2017-05-01  0.024575\n",
       "16 2017-05-02  0.008835\n",
       "17 2017-05-03  0.016569\n",
       "18 2017-05-04  0.015248\n",
       "19 2017-05-05  0.500000\n",
       "20 2017-05-06  0.000000\n",
       "21 2017-05-08  0.043231\n",
       "22 2017-05-09  0.048206\n",
       "12 2017-05-10  0.040892\n",
       "13 2017-05-11  0.003931\n",
       "14 2017-05-12  0.081359\n",
       "15 2017-05-13  0.078377"
      ]
     },
     "execution_count": 44,
     "metadata": {},
     "output_type": "execute_result"
    }
   ],
   "source": [
    "#group the data by date\n",
    "data=data.groupby('Date', as_index=False)['polarity'].mean()  \n",
    "#convert column \"Date\" to a date data type \n",
    "data['Date'] = pd.to_datetime(data['Date'])\n",
    "#sort the data by date ascending\n",
    "data=data.sort_values(by=\"Date\", axis=0, ascending=True, inplace=False, kind='quicksort')\n",
    "#data\n",
    "data"
   ]
  },
  {
   "cell_type": "markdown",
   "metadata": {},
   "source": [
    "### Graph for scores by date"
   ]
  },
  {
   "cell_type": "code",
   "execution_count": 45,
   "metadata": {
    "collapsed": false
   },
   "outputs": [
    {
     "data": {
      "text/plain": [
       "<matplotlib.axes._subplots.AxesSubplot at 0x11fa18710>"
      ]
     },
     "execution_count": 45,
     "metadata": {},
     "output_type": "execute_result"
    },
    {
     "data": {
      "image/png": "[encoded data removed]",
      "text/plain": [
       "<matplotlib.figure.Figure at 0x11fa0cc88>"
      ]
     },
     "metadata": {},
     "output_type": "display_data"
    }
   ],
   "source": [
    "data.plot(x=data[\"Date\"],kind = 'bar',title='Polarity for news titles by date',grid = True, color = 'orange')"
   ]
  },
  {
   "cell_type": "markdown",
   "metadata": {},
   "source": [
    "# Part 4: S&P 500 INDEX\n",
    "**Using the <font color='green'>yahoo_finance</font> module in Python, we will eventually compare the sentiment analysis of the news posts with the movement of the market index.**"
   ]
  },
  {
   "cell_type": "code",
   "execution_count": 41,
   "metadata": {
    "collapsed": false
   },
   "outputs": [
    {
     "name": "stdout",
     "output_type": "stream",
     "text": [
      "2371.37\n"
     ]
    }
   ],
   "source": [
    "from yahoo_finance import Share\n",
    "\n",
    "# '^GSPC' is the market symble for S&P 500 Index\n",
    "yahoo = Share('^GSPC')\n",
    "print(yahoo.get_open())"
   ]
  },
  {
   "cell_type": "code",
   "execution_count": 46,
   "metadata": {
    "collapsed": false
   },
   "outputs": [
    {
     "name": "stdout",
     "output_type": "stream",
     "text": [
      "2381.73\n"
     ]
    }
   ],
   "source": [
    "print(yahoo.get_price())"
   ]
  },
  {
   "cell_type": "code",
   "execution_count": 47,
   "metadata": {
    "collapsed": false
   },
   "outputs": [
    {
     "name": "stdout",
     "output_type": "stream",
     "text": [
      "2017-05-19 20:40:00 UTC+0000\n"
     ]
    }
   ],
   "source": [
    "print(yahoo.get_trade_datetime())"
   ]
  },
  {
   "cell_type": "code",
   "execution_count": 49,
   "metadata": {
    "collapsed": false
   },
   "outputs": [
    {
     "ename": "YQLResponseMalformedError",
     "evalue": "Response malformed.",
     "output_type": "error",
     "traceback": [
      "\u001b[0;31m---------------------------------------------------------------------------\u001b[0m",
      "\u001b[0;31mAttributeError\u001b[0m                            Traceback (most recent call last)",
      "\u001b[0;32m/Applications/anaconda/lib/python3.6/site-packages/yahoo_finance/__init__.py\u001b[0m in \u001b[0;36m_request\u001b[0;34m(self, query)\u001b[0m\n\u001b[1;32m    119\u001b[0m         \u001b[0;32mtry\u001b[0m\u001b[0;34m:\u001b[0m\u001b[0;34m\u001b[0m\u001b[0m\n\u001b[0;32m--> 120\u001b[0;31m             \u001b[0m_\u001b[0m\u001b[0;34m,\u001b[0m \u001b[0mresults\u001b[0m \u001b[0;34m=\u001b[0m \u001b[0mresponse\u001b[0m\u001b[0;34m[\u001b[0m\u001b[0;34m'query'\u001b[0m\u001b[0;34m]\u001b[0m\u001b[0;34m[\u001b[0m\u001b[0;34m'results'\u001b[0m\u001b[0;34m]\u001b[0m\u001b[0;34m.\u001b[0m\u001b[0mpopitem\u001b[0m\u001b[0;34m(\u001b[0m\u001b[0;34m)\u001b[0m\u001b[0;34m\u001b[0m\u001b[0m\n\u001b[0m\u001b[1;32m    121\u001b[0m         \u001b[0;32mexcept\u001b[0m \u001b[0;34m(\u001b[0m\u001b[0mKeyError\u001b[0m\u001b[0;34m,\u001b[0m \u001b[0mStopIteration\u001b[0m\u001b[0;34m,\u001b[0m \u001b[0mAttributeError\u001b[0m\u001b[0;34m)\u001b[0m\u001b[0;34m:\u001b[0m\u001b[0;34m\u001b[0m\u001b[0m\n",
      "\u001b[0;31mAttributeError\u001b[0m: 'NoneType' object has no attribute 'popitem'",
      "\nDuring handling of the above exception, another exception occurred:\n",
      "\u001b[0;31mKeyError\u001b[0m                                  Traceback (most recent call last)",
      "\u001b[0;32m/Applications/anaconda/lib/python3.6/site-packages/yahoo_finance/__init__.py\u001b[0m in \u001b[0;36m_request\u001b[0;34m(self, query)\u001b[0m\n\u001b[1;32m    122\u001b[0m             \u001b[0;32mtry\u001b[0m\u001b[0;34m:\u001b[0m\u001b[0;34m\u001b[0m\u001b[0m\n\u001b[0;32m--> 123\u001b[0;31m                 \u001b[0;32mraise\u001b[0m \u001b[0mYQLQueryError\u001b[0m\u001b[0;34m(\u001b[0m\u001b[0mresponse\u001b[0m\u001b[0;34m[\u001b[0m\u001b[0;34m'error'\u001b[0m\u001b[0;34m]\u001b[0m\u001b[0;34m[\u001b[0m\u001b[0;34m'description'\u001b[0m\u001b[0;34m]\u001b[0m\u001b[0;34m)\u001b[0m\u001b[0;34m\u001b[0m\u001b[0m\n\u001b[0m\u001b[1;32m    124\u001b[0m             \u001b[0;32mexcept\u001b[0m \u001b[0mKeyError\u001b[0m\u001b[0;34m:\u001b[0m\u001b[0;34m\u001b[0m\u001b[0m\n",
      "\u001b[0;31mKeyError\u001b[0m: 'error'",
      "\nDuring handling of the above exception, another exception occurred:\n",
      "\u001b[0;31mYQLResponseMalformedError\u001b[0m                 Traceback (most recent call last)",
      "\u001b[0;32m<ipython-input-49-f323a8c4b871>\u001b[0m in \u001b[0;36m<module>\u001b[0;34m()\u001b[0m\n\u001b[1;32m      1\u001b[0m \u001b[0;32mfrom\u001b[0m \u001b[0mpprint\u001b[0m \u001b[0;32mimport\u001b[0m \u001b[0mpprint\u001b[0m\u001b[0;34m\u001b[0m\u001b[0m\n\u001b[0;32m----> 2\u001b[0;31m \u001b[0mpprint\u001b[0m\u001b[0;34m(\u001b[0m\u001b[0myahoo\u001b[0m\u001b[0;34m.\u001b[0m\u001b[0mget_historical\u001b[0m\u001b[0;34m(\u001b[0m\u001b[0;34m'2017-04-09'\u001b[0m\u001b[0;34m,\u001b[0m \u001b[0;34m'2017-05-14'\u001b[0m\u001b[0;34m)\u001b[0m\u001b[0;34m)\u001b[0m\u001b[0;34m\u001b[0m\u001b[0m\n\u001b[0m",
      "\u001b[0;32m/Applications/anaconda/lib/python3.6/site-packages/yahoo_finance/__init__.py\u001b[0m in \u001b[0;36mget_historical\u001b[0;34m(self, start_date, end_date)\u001b[0m\n\u001b[1;32m    340\u001b[0m             \u001b[0;32mtry\u001b[0m\u001b[0;34m:\u001b[0m\u001b[0;34m\u001b[0m\u001b[0m\n\u001b[1;32m    341\u001b[0m                 \u001b[0mquery\u001b[0m \u001b[0;34m=\u001b[0m \u001b[0mself\u001b[0m\u001b[0;34m.\u001b[0m\u001b[0m_prepare_query\u001b[0m\u001b[0;34m(\u001b[0m\u001b[0mtable\u001b[0m\u001b[0;34m=\u001b[0m\u001b[0;34m'historicaldata'\u001b[0m\u001b[0;34m,\u001b[0m \u001b[0mstartDate\u001b[0m\u001b[0;34m=\u001b[0m\u001b[0ms\u001b[0m\u001b[0;34m,\u001b[0m \u001b[0mendDate\u001b[0m\u001b[0;34m=\u001b[0m\u001b[0me\u001b[0m\u001b[0;34m)\u001b[0m\u001b[0;34m\u001b[0m\u001b[0m\n\u001b[0;32m--> 342\u001b[0;31m                 \u001b[0mresult\u001b[0m \u001b[0;34m=\u001b[0m \u001b[0mself\u001b[0m\u001b[0;34m.\u001b[0m\u001b[0m_request\u001b[0m\u001b[0;34m(\u001b[0m\u001b[0mquery\u001b[0m\u001b[0;34m)\u001b[0m\u001b[0;34m\u001b[0m\u001b[0m\n\u001b[0m\u001b[1;32m    343\u001b[0m                 \u001b[0;32mif\u001b[0m \u001b[0misinstance\u001b[0m\u001b[0;34m(\u001b[0m\u001b[0mresult\u001b[0m\u001b[0;34m,\u001b[0m \u001b[0mdict\u001b[0m\u001b[0;34m)\u001b[0m\u001b[0;34m:\u001b[0m\u001b[0;34m\u001b[0m\u001b[0m\n\u001b[1;32m    344\u001b[0m                     \u001b[0mresult\u001b[0m \u001b[0;34m=\u001b[0m \u001b[0;34m[\u001b[0m\u001b[0mresult\u001b[0m\u001b[0;34m]\u001b[0m\u001b[0;34m\u001b[0m\u001b[0m\n",
      "\u001b[0;32m/Applications/anaconda/lib/python3.6/site-packages/yahoo_finance/__init__.py\u001b[0m in \u001b[0;36m_request\u001b[0;34m(self, query)\u001b[0m\n\u001b[1;32m    123\u001b[0m                 \u001b[0;32mraise\u001b[0m \u001b[0mYQLQueryError\u001b[0m\u001b[0;34m(\u001b[0m\u001b[0mresponse\u001b[0m\u001b[0;34m[\u001b[0m\u001b[0;34m'error'\u001b[0m\u001b[0;34m]\u001b[0m\u001b[0;34m[\u001b[0m\u001b[0;34m'description'\u001b[0m\u001b[0;34m]\u001b[0m\u001b[0;34m)\u001b[0m\u001b[0;34m\u001b[0m\u001b[0m\n\u001b[1;32m    124\u001b[0m             \u001b[0;32mexcept\u001b[0m \u001b[0mKeyError\u001b[0m\u001b[0;34m:\u001b[0m\u001b[0;34m\u001b[0m\u001b[0m\n\u001b[0;32m--> 125\u001b[0;31m                 \u001b[0;32mraise\u001b[0m \u001b[0mYQLResponseMalformedError\u001b[0m\u001b[0;34m(\u001b[0m\u001b[0;34m)\u001b[0m\u001b[0;34m\u001b[0m\u001b[0m\n\u001b[0m\u001b[1;32m    126\u001b[0m         \u001b[0;32melse\u001b[0m\u001b[0;34m:\u001b[0m\u001b[0;34m\u001b[0m\u001b[0m\n\u001b[1;32m    127\u001b[0m             \u001b[0;32mif\u001b[0m \u001b[0mself\u001b[0m\u001b[0;34m.\u001b[0m\u001b[0m_is_error_in_results\u001b[0m\u001b[0;34m(\u001b[0m\u001b[0mresults\u001b[0m\u001b[0;34m)\u001b[0m\u001b[0;34m:\u001b[0m\u001b[0;34m\u001b[0m\u001b[0m\n",
      "\u001b[0;31mYQLResponseMalformedError\u001b[0m: Response malformed."
     ]
    }
   ],
   "source": [
    "from pprint import pprint\n",
    "pprint(yahoo.get_historical('2017-04-09', '2017-05-14'))"
   ]
  },
  {
   "cell_type": "markdown",
   "metadata": {},
   "source": [
    "**We create a .csv file called yahoo.csv to store the financial data upon each import.**"
   ]
  },
  {
   "cell_type": "code",
   "execution_count": 51,
   "metadata": {
    "collapsed": false
   },
   "outputs": [
    {
     "ename": "YQLResponseMalformedError",
     "evalue": "Response malformed.",
     "output_type": "error",
     "traceback": [
      "\u001b[0;31m---------------------------------------------------------------------------\u001b[0m",
      "\u001b[0;31mAttributeError\u001b[0m                            Traceback (most recent call last)",
      "\u001b[0;32m/Applications/anaconda/lib/python3.6/site-packages/yahoo_finance/__init__.py\u001b[0m in \u001b[0;36m_request\u001b[0;34m(self, query)\u001b[0m\n\u001b[1;32m    119\u001b[0m         \u001b[0;32mtry\u001b[0m\u001b[0;34m:\u001b[0m\u001b[0;34m\u001b[0m\u001b[0m\n\u001b[0;32m--> 120\u001b[0;31m             \u001b[0m_\u001b[0m\u001b[0;34m,\u001b[0m \u001b[0mresults\u001b[0m \u001b[0;34m=\u001b[0m \u001b[0mresponse\u001b[0m\u001b[0;34m[\u001b[0m\u001b[0;34m'query'\u001b[0m\u001b[0;34m]\u001b[0m\u001b[0;34m[\u001b[0m\u001b[0;34m'results'\u001b[0m\u001b[0;34m]\u001b[0m\u001b[0;34m.\u001b[0m\u001b[0mpopitem\u001b[0m\u001b[0;34m(\u001b[0m\u001b[0;34m)\u001b[0m\u001b[0;34m\u001b[0m\u001b[0m\n\u001b[0m\u001b[1;32m    121\u001b[0m         \u001b[0;32mexcept\u001b[0m \u001b[0;34m(\u001b[0m\u001b[0mKeyError\u001b[0m\u001b[0;34m,\u001b[0m \u001b[0mStopIteration\u001b[0m\u001b[0;34m,\u001b[0m \u001b[0mAttributeError\u001b[0m\u001b[0;34m)\u001b[0m\u001b[0;34m:\u001b[0m\u001b[0;34m\u001b[0m\u001b[0m\n",
      "\u001b[0;31mAttributeError\u001b[0m: 'NoneType' object has no attribute 'popitem'",
      "\nDuring handling of the above exception, another exception occurred:\n",
      "\u001b[0;31mKeyError\u001b[0m                                  Traceback (most recent call last)",
      "\u001b[0;32m/Applications/anaconda/lib/python3.6/site-packages/yahoo_finance/__init__.py\u001b[0m in \u001b[0;36m_request\u001b[0;34m(self, query)\u001b[0m\n\u001b[1;32m    122\u001b[0m             \u001b[0;32mtry\u001b[0m\u001b[0;34m:\u001b[0m\u001b[0;34m\u001b[0m\u001b[0m\n\u001b[0;32m--> 123\u001b[0;31m                 \u001b[0;32mraise\u001b[0m \u001b[0mYQLQueryError\u001b[0m\u001b[0;34m(\u001b[0m\u001b[0mresponse\u001b[0m\u001b[0;34m[\u001b[0m\u001b[0;34m'error'\u001b[0m\u001b[0;34m]\u001b[0m\u001b[0;34m[\u001b[0m\u001b[0;34m'description'\u001b[0m\u001b[0;34m]\u001b[0m\u001b[0;34m)\u001b[0m\u001b[0;34m\u001b[0m\u001b[0m\n\u001b[0m\u001b[1;32m    124\u001b[0m             \u001b[0;32mexcept\u001b[0m \u001b[0mKeyError\u001b[0m\u001b[0;34m:\u001b[0m\u001b[0;34m\u001b[0m\u001b[0m\n",
      "\u001b[0;31mKeyError\u001b[0m: 'error'",
      "\nDuring handling of the above exception, another exception occurred:\n",
      "\u001b[0;31mYQLResponseMalformedError\u001b[0m                 Traceback (most recent call last)",
      "\u001b[0;32m<ipython-input-51-a076db5c341d>\u001b[0m in \u001b[0;36m<module>\u001b[0;34m()\u001b[0m\n\u001b[1;32m      1\u001b[0m \u001b[0;32mfrom\u001b[0m \u001b[0myahoo_finance\u001b[0m \u001b[0;32mimport\u001b[0m \u001b[0mShare\u001b[0m\u001b[0;34m\u001b[0m\u001b[0m\n\u001b[1;32m      2\u001b[0m \u001b[0myahoo\u001b[0m \u001b[0;34m=\u001b[0m \u001b[0mShare\u001b[0m\u001b[0;34m(\u001b[0m\u001b[0;34m'^GSPC'\u001b[0m\u001b[0;34m)\u001b[0m\u001b[0;34m\u001b[0m\u001b[0m\n\u001b[0;32m----> 3\u001b[0;31m \u001b[0mdataset\u001b[0m \u001b[0;34m=\u001b[0m \u001b[0myahoo\u001b[0m\u001b[0;34m.\u001b[0m\u001b[0mget_historical\u001b[0m\u001b[0;34m(\u001b[0m\u001b[0;34m'2017-04-27'\u001b[0m\u001b[0;34m,\u001b[0m\u001b[0;34m'2017-05-13'\u001b[0m\u001b[0;34m)\u001b[0m\u001b[0;34m\u001b[0m\u001b[0m\n\u001b[0m\u001b[1;32m      4\u001b[0m \u001b[0mresult\u001b[0m \u001b[0;34m=\u001b[0m \u001b[0mcsv\u001b[0m\u001b[0;34m.\u001b[0m\u001b[0mwriter\u001b[0m\u001b[0;34m(\u001b[0m\u001b[0mopen\u001b[0m\u001b[0;34m(\u001b[0m\u001b[0;34m'yahoo.csv'\u001b[0m\u001b[0;34m,\u001b[0m\u001b[0;34m'w'\u001b[0m\u001b[0;34m)\u001b[0m\u001b[0;34m)\u001b[0m\u001b[0;34m\u001b[0m\u001b[0m\n\u001b[1;32m      5\u001b[0m \u001b[0mresult\u001b[0m\u001b[0;34m.\u001b[0m\u001b[0mwriterow\u001b[0m\u001b[0;34m(\u001b[0m\u001b[0;34m[\u001b[0m\u001b[0;34m'Date'\u001b[0m\u001b[0;34m,\u001b[0m\u001b[0;34m'Low'\u001b[0m\u001b[0;34m,\u001b[0m\u001b[0;34m'High'\u001b[0m\u001b[0;34m]\u001b[0m\u001b[0;34m)\u001b[0m\u001b[0;34m\u001b[0m\u001b[0m\n",
      "\u001b[0;32m/Applications/anaconda/lib/python3.6/site-packages/yahoo_finance/__init__.py\u001b[0m in \u001b[0;36mget_historical\u001b[0;34m(self, start_date, end_date)\u001b[0m\n\u001b[1;32m    340\u001b[0m             \u001b[0;32mtry\u001b[0m\u001b[0;34m:\u001b[0m\u001b[0;34m\u001b[0m\u001b[0m\n\u001b[1;32m    341\u001b[0m                 \u001b[0mquery\u001b[0m \u001b[0;34m=\u001b[0m \u001b[0mself\u001b[0m\u001b[0;34m.\u001b[0m\u001b[0m_prepare_query\u001b[0m\u001b[0;34m(\u001b[0m\u001b[0mtable\u001b[0m\u001b[0;34m=\u001b[0m\u001b[0;34m'historicaldata'\u001b[0m\u001b[0;34m,\u001b[0m \u001b[0mstartDate\u001b[0m\u001b[0;34m=\u001b[0m\u001b[0ms\u001b[0m\u001b[0;34m,\u001b[0m \u001b[0mendDate\u001b[0m\u001b[0;34m=\u001b[0m\u001b[0me\u001b[0m\u001b[0;34m)\u001b[0m\u001b[0;34m\u001b[0m\u001b[0m\n\u001b[0;32m--> 342\u001b[0;31m                 \u001b[0mresult\u001b[0m \u001b[0;34m=\u001b[0m \u001b[0mself\u001b[0m\u001b[0;34m.\u001b[0m\u001b[0m_request\u001b[0m\u001b[0;34m(\u001b[0m\u001b[0mquery\u001b[0m\u001b[0;34m)\u001b[0m\u001b[0;34m\u001b[0m\u001b[0m\n\u001b[0m\u001b[1;32m    343\u001b[0m                 \u001b[0;32mif\u001b[0m \u001b[0misinstance\u001b[0m\u001b[0;34m(\u001b[0m\u001b[0mresult\u001b[0m\u001b[0;34m,\u001b[0m \u001b[0mdict\u001b[0m\u001b[0;34m)\u001b[0m\u001b[0;34m:\u001b[0m\u001b[0;34m\u001b[0m\u001b[0m\n\u001b[1;32m    344\u001b[0m                     \u001b[0mresult\u001b[0m \u001b[0;34m=\u001b[0m \u001b[0;34m[\u001b[0m\u001b[0mresult\u001b[0m\u001b[0;34m]\u001b[0m\u001b[0;34m\u001b[0m\u001b[0m\n",
      "\u001b[0;32m/Applications/anaconda/lib/python3.6/site-packages/yahoo_finance/__init__.py\u001b[0m in \u001b[0;36m_request\u001b[0;34m(self, query)\u001b[0m\n\u001b[1;32m    123\u001b[0m                 \u001b[0;32mraise\u001b[0m \u001b[0mYQLQueryError\u001b[0m\u001b[0;34m(\u001b[0m\u001b[0mresponse\u001b[0m\u001b[0;34m[\u001b[0m\u001b[0;34m'error'\u001b[0m\u001b[0;34m]\u001b[0m\u001b[0;34m[\u001b[0m\u001b[0;34m'description'\u001b[0m\u001b[0;34m]\u001b[0m\u001b[0;34m)\u001b[0m\u001b[0;34m\u001b[0m\u001b[0m\n\u001b[1;32m    124\u001b[0m             \u001b[0;32mexcept\u001b[0m \u001b[0mKeyError\u001b[0m\u001b[0;34m:\u001b[0m\u001b[0;34m\u001b[0m\u001b[0m\n\u001b[0;32m--> 125\u001b[0;31m                 \u001b[0;32mraise\u001b[0m \u001b[0mYQLResponseMalformedError\u001b[0m\u001b[0;34m(\u001b[0m\u001b[0;34m)\u001b[0m\u001b[0;34m\u001b[0m\u001b[0m\n\u001b[0m\u001b[1;32m    126\u001b[0m         \u001b[0;32melse\u001b[0m\u001b[0;34m:\u001b[0m\u001b[0;34m\u001b[0m\u001b[0m\n\u001b[1;32m    127\u001b[0m             \u001b[0;32mif\u001b[0m \u001b[0mself\u001b[0m\u001b[0;34m.\u001b[0m\u001b[0m_is_error_in_results\u001b[0m\u001b[0;34m(\u001b[0m\u001b[0mresults\u001b[0m\u001b[0;34m)\u001b[0m\u001b[0;34m:\u001b[0m\u001b[0;34m\u001b[0m\u001b[0m\n",
      "\u001b[0;31mYQLResponseMalformedError\u001b[0m: Response malformed."
     ]
    }
   ],
   "source": [
    "from yahoo_finance import Share\n",
    "yahoo = Share('^GSPC')\n",
    "dataset = yahoo.get_historical('2017-04-27','2017-05-13')\n",
    "result = csv.writer(open('yahoo.csv','w'))\n",
    "result.writerow(['Date','Low','High'])\n",
    "for i in range(0,len(dataset)):\n",
    "    line = [dataset[i]['Date'],dataset[i]['Low'],dataset[i]['High']]\n",
    "    result.writerow(line)"
   ]
  },
  {
   "cell_type": "code",
   "execution_count": 120,
   "metadata": {
    "collapsed": false
   },
   "outputs": [
    {
     "data": {
      "text/html": [
       "<div>\n",
       "<table border=\"1\" class=\"dataframe\">\n",
       "  <thead>\n",
       "    <tr style=\"text-align: right;\">\n",
       "      <th></th>\n",
       "      <th>Date</th>\n",
       "      <th>Low</th>\n",
       "      <th>High</th>\n",
       "    </tr>\n",
       "  </thead>\n",
       "  <tbody>\n",
       "    <tr>\n",
       "      <th>0</th>\n",
       "      <td>2017-05-09</td>\n",
       "      <td>2392.439941</td>\n",
       "      <td>2403.870117</td>\n",
       "    </tr>\n",
       "    <tr>\n",
       "      <th>1</th>\n",
       "      <td>2017-05-08</td>\n",
       "      <td>2393.919922</td>\n",
       "      <td>2401.360107</td>\n",
       "    </tr>\n",
       "    <tr>\n",
       "      <th>2</th>\n",
       "      <td>2017-05-05</td>\n",
       "      <td>2389.379883</td>\n",
       "      <td>2399.290039</td>\n",
       "    </tr>\n",
       "    <tr>\n",
       "      <th>3</th>\n",
       "      <td>2017-05-04</td>\n",
       "      <td>2380.350098</td>\n",
       "      <td>2391.429932</td>\n",
       "    </tr>\n",
       "    <tr>\n",
       "      <th>4</th>\n",
       "      <td>2017-05-03</td>\n",
       "      <td>2379.750000</td>\n",
       "      <td>2389.820068</td>\n",
       "    </tr>\n",
       "    <tr>\n",
       "      <th>5</th>\n",
       "      <td>2017-05-02</td>\n",
       "      <td>2385.820068</td>\n",
       "      <td>2392.929932</td>\n",
       "    </tr>\n",
       "    <tr>\n",
       "      <th>6</th>\n",
       "      <td>2017-05-01</td>\n",
       "      <td>2384.830078</td>\n",
       "      <td>2394.489990</td>\n",
       "    </tr>\n",
       "    <tr>\n",
       "      <th>7</th>\n",
       "      <td>2017-04-28</td>\n",
       "      <td>2382.360107</td>\n",
       "      <td>2393.679932</td>\n",
       "    </tr>\n",
       "    <tr>\n",
       "      <th>8</th>\n",
       "      <td>2017-04-27</td>\n",
       "      <td>2382.679932</td>\n",
       "      <td>2392.100098</td>\n",
       "    </tr>\n",
       "  </tbody>\n",
       "</table>\n",
       "</div>"
      ],
      "text/plain": [
       "         Date          Low         High\n",
       "0  2017-05-09  2392.439941  2403.870117\n",
       "1  2017-05-08  2393.919922  2401.360107\n",
       "2  2017-05-05  2389.379883  2399.290039\n",
       "3  2017-05-04  2380.350098  2391.429932\n",
       "4  2017-05-03  2379.750000  2389.820068\n",
       "5  2017-05-02  2385.820068  2392.929932\n",
       "6  2017-05-01  2384.830078  2394.489990\n",
       "7  2017-04-28  2382.360107  2393.679932\n",
       "8  2017-04-27  2382.679932  2392.100098"
      ]
     },
     "execution_count": 120,
     "metadata": {},
     "output_type": "execute_result"
    }
   ],
   "source": [
    "yahoo = pd.read_csv('yahoo.csv')\n",
    "yahoo"
   ]
  },
  {
   "cell_type": "code",
   "execution_count": 121,
   "metadata": {
    "collapsed": false
   },
   "outputs": [
    {
     "data": {
      "text/html": [
       "<div>\n",
       "<table border=\"1\" class=\"dataframe\">\n",
       "  <thead>\n",
       "    <tr style=\"text-align: right;\">\n",
       "      <th></th>\n",
       "      <th>Date</th>\n",
       "      <th>Low</th>\n",
       "      <th>High</th>\n",
       "    </tr>\n",
       "  </thead>\n",
       "  <tbody>\n",
       "    <tr>\n",
       "      <th>8</th>\n",
       "      <td>2017-04-27</td>\n",
       "      <td>2382.679932</td>\n",
       "      <td>2392.100098</td>\n",
       "    </tr>\n",
       "    <tr>\n",
       "      <th>7</th>\n",
       "      <td>2017-04-28</td>\n",
       "      <td>2382.360107</td>\n",
       "      <td>2393.679932</td>\n",
       "    </tr>\n",
       "    <tr>\n",
       "      <th>6</th>\n",
       "      <td>2017-05-01</td>\n",
       "      <td>2384.830078</td>\n",
       "      <td>2394.489990</td>\n",
       "    </tr>\n",
       "    <tr>\n",
       "      <th>5</th>\n",
       "      <td>2017-05-02</td>\n",
       "      <td>2385.820068</td>\n",
       "      <td>2392.929932</td>\n",
       "    </tr>\n",
       "    <tr>\n",
       "      <th>4</th>\n",
       "      <td>2017-05-03</td>\n",
       "      <td>2379.750000</td>\n",
       "      <td>2389.820068</td>\n",
       "    </tr>\n",
       "    <tr>\n",
       "      <th>3</th>\n",
       "      <td>2017-05-04</td>\n",
       "      <td>2380.350098</td>\n",
       "      <td>2391.429932</td>\n",
       "    </tr>\n",
       "    <tr>\n",
       "      <th>2</th>\n",
       "      <td>2017-05-05</td>\n",
       "      <td>2389.379883</td>\n",
       "      <td>2399.290039</td>\n",
       "    </tr>\n",
       "    <tr>\n",
       "      <th>1</th>\n",
       "      <td>2017-05-08</td>\n",
       "      <td>2393.919922</td>\n",
       "      <td>2401.360107</td>\n",
       "    </tr>\n",
       "    <tr>\n",
       "      <th>0</th>\n",
       "      <td>2017-05-09</td>\n",
       "      <td>2392.439941</td>\n",
       "      <td>2403.870117</td>\n",
       "    </tr>\n",
       "  </tbody>\n",
       "</table>\n",
       "</div>"
      ],
      "text/plain": [
       "        Date          Low         High\n",
       "8 2017-04-27  2382.679932  2392.100098\n",
       "7 2017-04-28  2382.360107  2393.679932\n",
       "6 2017-05-01  2384.830078  2394.489990\n",
       "5 2017-05-02  2385.820068  2392.929932\n",
       "4 2017-05-03  2379.750000  2389.820068\n",
       "3 2017-05-04  2380.350098  2391.429932\n",
       "2 2017-05-05  2389.379883  2399.290039\n",
       "1 2017-05-08  2393.919922  2401.360107\n",
       "0 2017-05-09  2392.439941  2403.870117"
      ]
     },
     "execution_count": 121,
     "metadata": {},
     "output_type": "execute_result"
    }
   ],
   "source": [
    "#convert column \"Date\" to a date data type\n",
    "yahoo['Date'] = pd.to_datetime(yahoo['Date'])\n",
    "#sort the data by date ascending\n",
    "yahoo=yahoo.sort_values(by=\"Date\", axis=0, ascending=True, inplace=False, kind='quicksort')\n",
    "yahoo"
   ]
  },
  {
   "cell_type": "code",
   "execution_count": 122,
   "metadata": {
    "collapsed": false
   },
   "outputs": [
    {
     "data": {
      "text/plain": [
       "pandas.core.series.Series"
      ]
     },
     "execution_count": 122,
     "metadata": {},
     "output_type": "execute_result"
    }
   ],
   "source": [
    "type(data['Date'])\n",
    "type(yahoo['Date'])"
   ]
  },
  {
   "cell_type": "markdown",
   "metadata": {},
   "source": [
    "# PART 5 CORRELATION BETWEEN NEWS POLARITY AND S&P 500"
   ]
  },
  {
   "cell_type": "code",
   "execution_count": 123,
   "metadata": {
    "collapsed": false
   },
   "outputs": [
    {
     "data": {
      "text/html": [
       "<div>\n",
       "<table border=\"1\" class=\"dataframe\">\n",
       "  <thead>\n",
       "    <tr style=\"text-align: right;\">\n",
       "      <th></th>\n",
       "      <th>Date</th>\n",
       "      <th>polarity</th>\n",
       "      <th>Low</th>\n",
       "      <th>High</th>\n",
       "    </tr>\n",
       "  </thead>\n",
       "  <tbody>\n",
       "    <tr>\n",
       "      <th>0</th>\n",
       "      <td>2017-04-27</td>\n",
       "      <td>-0.021875</td>\n",
       "      <td>2382.679932</td>\n",
       "      <td>2392.100098</td>\n",
       "    </tr>\n",
       "    <tr>\n",
       "      <th>1</th>\n",
       "      <td>2017-04-28</td>\n",
       "      <td>0.077340</td>\n",
       "      <td>2382.360107</td>\n",
       "      <td>2393.679932</td>\n",
       "    </tr>\n",
       "    <tr>\n",
       "      <th>2</th>\n",
       "      <td>2017-05-01</td>\n",
       "      <td>0.025641</td>\n",
       "      <td>2384.830078</td>\n",
       "      <td>2394.489990</td>\n",
       "    </tr>\n",
       "    <tr>\n",
       "      <th>3</th>\n",
       "      <td>2017-05-02</td>\n",
       "      <td>0.032199</td>\n",
       "      <td>2385.820068</td>\n",
       "      <td>2392.929932</td>\n",
       "    </tr>\n",
       "    <tr>\n",
       "      <th>4</th>\n",
       "      <td>2017-05-03</td>\n",
       "      <td>-0.000268</td>\n",
       "      <td>2379.750000</td>\n",
       "      <td>2389.820068</td>\n",
       "    </tr>\n",
       "    <tr>\n",
       "      <th>5</th>\n",
       "      <td>2017-05-04</td>\n",
       "      <td>0.022727</td>\n",
       "      <td>2380.350098</td>\n",
       "      <td>2391.429932</td>\n",
       "    </tr>\n",
       "  </tbody>\n",
       "</table>\n",
       "</div>"
      ],
      "text/plain": [
       "        Date  polarity          Low         High\n",
       "0 2017-04-27 -0.021875  2382.679932  2392.100098\n",
       "1 2017-04-28  0.077340  2382.360107  2393.679932\n",
       "2 2017-05-01  0.025641  2384.830078  2394.489990\n",
       "3 2017-05-02  0.032199  2385.820068  2392.929932\n",
       "4 2017-05-03 -0.000268  2379.750000  2389.820068\n",
       "5 2017-05-04  0.022727  2380.350098  2391.429932"
      ]
     },
     "execution_count": 123,
     "metadata": {},
     "output_type": "execute_result"
    }
   ],
   "source": [
    "#join yahoo and data together on \"Date\"\n",
    "result = pd.merge(data, yahoo,on='Date')\n",
    "result"
   ]
  },
  {
   "cell_type": "code",
   "execution_count": 124,
   "metadata": {
    "collapsed": false
   },
   "outputs": [],
   "source": [
    "result_len = len(result)"
   ]
  },
  {
   "cell_type": "code",
   "execution_count": 125,
   "metadata": {
    "collapsed": false
   },
   "outputs": [
    {
     "data": {
      "text/plain": [
       "<matplotlib.axes._subplots.AxesSubplot at 0x11c8e8b00>"
      ]
     },
     "execution_count": 125,
     "metadata": {},
     "output_type": "execute_result"
    },
    {
     "data": {
      "image/png": "[encoded data removed]",
      "text/plain": [
       "<matplotlib.figure.Figure at 0x11c8ffa90>"
      ]
     },
     "metadata": {},
     "output_type": "display_data"
    },
    {
     "data": {
      "image/png": "[encoded data removed]",
      "text/plain": [
       "<matplotlib.figure.Figure at 0x11c8ff438>"
      ]
     },
     "metadata": {},
     "output_type": "display_data"
    }
   ],
   "source": [
    "yahoo.plot(x=\"Date\",figsize=(6, 2),title='Yahoo Finance')\n",
    "data.plot(x='Date',figsize=(6, 2),title='News Title Polarity')"
   ]
  },
  {
   "cell_type": "markdown",
   "metadata": {},
   "source": [
    "###  Estimate correlation between polarity scores and S&P500 index"
   ]
  },
  {
   "cell_type": "code",
   "execution_count": 126,
   "metadata": {
    "collapsed": false
   },
   "outputs": [
    {
     "data": {
      "text/plain": [
       "array([[ 1.        ,  0.21469213],\n",
       "       [ 0.21469213,  1.        ]])"
      ]
     },
     "execution_count": 126,
     "metadata": {},
     "output_type": "execute_result"
    }
   ],
   "source": [
    "import numpy\n",
    "low=result['Low']\n",
    "high=result['High']\n",
    "polarity=result['polarity']\n",
    "numpy.corrcoef(low, polarity) \n",
    "#from the data we have, we can conclude that news polarity and S&P500 index are positively correlated "
   ]
  },
  {
   "cell_type": "code",
   "execution_count": 127,
   "metadata": {
    "collapsed": false
   },
   "outputs": [
    {
     "data": {
      "text/plain": [
       "array([[ 1.        ,  0.54956514],\n",
       "       [ 0.54956514,  1.        ]])"
      ]
     },
     "execution_count": 127,
     "metadata": {},
     "output_type": "execute_result"
    }
   ],
   "source": [
    "numpy.corrcoef(high, polarity)"
   ]
  },
  {
   "cell_type": "code",
   "execution_count": 128,
   "metadata": {
    "collapsed": false
   },
   "outputs": [
    {
     "data": {
      "text/plain": [
       "array([[ 1.        ,  0.77905387],\n",
       "       [ 0.77905387,  1.        ]])"
      ]
     },
     "execution_count": 128,
     "metadata": {},
     "output_type": "execute_result"
    }
   ],
   "source": [
    "numpy.corrcoef(high, low)"
   ]
  },
  {
   "cell_type": "code",
   "execution_count": 129,
   "metadata": {
    "collapsed": false
   },
   "outputs": [
    {
     "data": {
      "text/plain": [
       "<matplotlib.axes._subplots.AxesSubplot at 0x11bdc8fd0>"
      ]
     },
     "execution_count": 129,
     "metadata": {},
     "output_type": "execute_result"
    },
    {
     "data": {
      "image/png": "[encoded data removed]",
      "text/plain": [
       "<matplotlib.figure.Figure at 0x11cc1f438>"
      ]
     },
     "metadata": {},
     "output_type": "display_data"
    }
   ],
   "source": [
    "#a scatterplot for news polarity and Yahoo daily return of the market index\n",
    "result.plot.scatter(x=\"polarity\", y=\"Low\")\n"
   ]
  },
  {
   "cell_type": "markdown",
   "metadata": {
    "collapsed": true
   },
   "source": [
    "### A parametic estimation for Yahoo daily return by news polarity"
   ]
  },
  {
   "cell_type": "code",
   "execution_count": 130,
   "metadata": {
    "collapsed": false
   },
   "outputs": [
    {
     "data": {
      "text/plain": [
       "<seaborn.axisgrid.FacetGrid at 0x11669c5f8>"
      ]
     },
     "execution_count": 130,
     "metadata": {},
     "output_type": "execute_result"
    },
    {
     "data": {
      "image/png": "[encoded data removed]",
      "text/plain": [
       "<matplotlib.figure.Figure at 0x11669cd68>"
      ]
     },
     "metadata": {},
     "output_type": "display_data"
    }
   ],
   "source": [
    "#a parametic estimation for Yahoo daily return by news polarity\n",
    "import seaborn as sns\n",
    "#lmplot plots the data with the regression coefficient through it.\n",
    "sns.lmplot(x=\"polarity\", y=\"Low\", data=result, ci=0.95) #ci stands for confidence interval "
   ]
  },
  {
   "cell_type": "markdown",
   "metadata": {},
   "source": [
    "### A non-parametic estimation for Yahoo daily return by news polarity"
   ]
  },
  {
   "cell_type": "code",
   "execution_count": 131,
   "metadata": {
    "collapsed": false
   },
   "outputs": [],
   "source": [
    "import pyqt_fit.nonparam_regression as smooth\n",
    "from pyqt_fit import npr_methods"
   ]
  },
  {
   "cell_type": "code",
   "execution_count": 132,
   "metadata": {
    "collapsed": false,
    "scrolled": true
   },
   "outputs": [
    {
     "data": {
      "text/plain": [
       "<matplotlib.legend.Legend at 0x119a3ab00>"
      ]
     },
     "execution_count": 132,
     "metadata": {},
     "output_type": "execute_result"
    },
    {
     "data": {
      "image/png": "[encoded data removed]",
      "text/plain": [
       "<matplotlib.figure.Figure at 0x11d60de48>"
      ]
     },
     "metadata": {},
     "output_type": "display_data"
    }
   ],
   "source": [
    "k0 = smooth.NonParamRegression(polarity, low, method=npr_methods.SpatialAverage())\n",
    "k0.fit()\n",
    "grid = np.r_[-0.05:0.05:0.01]\n",
    "plt.plot(grid, k0(grid), label=\"Spatial Averaging\", linewidth=2)\n",
    "plt.legend(loc='best')"
   ]
  }
 ],
 "metadata": {
  "anaconda-cloud": {},
  "kernelspec": {
   "display_name": "Python 3",
   "language": "python",
   "name": "python3"
  },
  "language_info": {
   "codemirror_mode": {
    "name": "ipython",
    "version": 3
   },
   "file_extension": ".py",
   "mimetype": "text/x-python",
   "name": "python",
   "nbconvert_exporter": "python",
   "pygments_lexer": "ipython3",
   "version": "3.6.0"
  }
 },
 "nbformat": 4,
 "nbformat_minor": 2
}
